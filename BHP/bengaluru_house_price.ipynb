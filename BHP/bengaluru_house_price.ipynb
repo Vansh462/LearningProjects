{
  "cells": [
    {
      "cell_type": "code",
      "execution_count": 2,
      "metadata": {
        "id": "mUwXwxPKJE1l"
      },
      "outputs": [],
      "source": [
        "import pandas as pd\n",
        "import numpy as np\n",
        "import seaborn as sns\n",
        "import matplotlib.pyplot as plt\n",
        "import joblib"
      ]
    },
    {
      "cell_type": "code",
      "execution_count": 3,
      "metadata": {
        "colab": {
          "base_uri": "https://localhost:8080/",
          "height": 206
        },
        "id": "pQXpGkMUJZLH",
        "outputId": "b82f5493-0de7-441b-e0f9-b64021491b49"
      },
      "outputs": [
        {
          "data": {
            "text/html": [
              "<div>\n",
              "<style scoped>\n",
              "    .dataframe tbody tr th:only-of-type {\n",
              "        vertical-align: middle;\n",
              "    }\n",
              "\n",
              "    .dataframe tbody tr th {\n",
              "        vertical-align: top;\n",
              "    }\n",
              "\n",
              "    .dataframe thead th {\n",
              "        text-align: right;\n",
              "    }\n",
              "</style>\n",
              "<table border=\"1\" class=\"dataframe\">\n",
              "  <thead>\n",
              "    <tr style=\"text-align: right;\">\n",
              "      <th></th>\n",
              "      <th>area_type</th>\n",
              "      <th>availability</th>\n",
              "      <th>location</th>\n",
              "      <th>size</th>\n",
              "      <th>society</th>\n",
              "      <th>total_sqft</th>\n",
              "      <th>bath</th>\n",
              "      <th>balcony</th>\n",
              "      <th>price</th>\n",
              "    </tr>\n",
              "  </thead>\n",
              "  <tbody>\n",
              "    <tr>\n",
              "      <th>0</th>\n",
              "      <td>Super built-up  Area</td>\n",
              "      <td>19-Dec</td>\n",
              "      <td>Electronic City Phase II</td>\n",
              "      <td>2 BHK</td>\n",
              "      <td>Coomee</td>\n",
              "      <td>1056</td>\n",
              "      <td>2.0</td>\n",
              "      <td>1.0</td>\n",
              "      <td>39.07</td>\n",
              "    </tr>\n",
              "    <tr>\n",
              "      <th>1</th>\n",
              "      <td>Plot  Area</td>\n",
              "      <td>Ready To Move</td>\n",
              "      <td>Chikka Tirupathi</td>\n",
              "      <td>4 Bedroom</td>\n",
              "      <td>Theanmp</td>\n",
              "      <td>2600</td>\n",
              "      <td>5.0</td>\n",
              "      <td>3.0</td>\n",
              "      <td>120.00</td>\n",
              "    </tr>\n",
              "    <tr>\n",
              "      <th>2</th>\n",
              "      <td>Built-up  Area</td>\n",
              "      <td>Ready To Move</td>\n",
              "      <td>Uttarahalli</td>\n",
              "      <td>3 BHK</td>\n",
              "      <td>NaN</td>\n",
              "      <td>1440</td>\n",
              "      <td>2.0</td>\n",
              "      <td>3.0</td>\n",
              "      <td>62.00</td>\n",
              "    </tr>\n",
              "    <tr>\n",
              "      <th>3</th>\n",
              "      <td>Super built-up  Area</td>\n",
              "      <td>Ready To Move</td>\n",
              "      <td>Lingadheeranahalli</td>\n",
              "      <td>3 BHK</td>\n",
              "      <td>Soiewre</td>\n",
              "      <td>1521</td>\n",
              "      <td>3.0</td>\n",
              "      <td>1.0</td>\n",
              "      <td>95.00</td>\n",
              "    </tr>\n",
              "    <tr>\n",
              "      <th>4</th>\n",
              "      <td>Super built-up  Area</td>\n",
              "      <td>Ready To Move</td>\n",
              "      <td>Kothanur</td>\n",
              "      <td>2 BHK</td>\n",
              "      <td>NaN</td>\n",
              "      <td>1200</td>\n",
              "      <td>2.0</td>\n",
              "      <td>1.0</td>\n",
              "      <td>51.00</td>\n",
              "    </tr>\n",
              "  </tbody>\n",
              "</table>\n",
              "</div>"
            ],
            "text/plain": [
              "              area_type   availability                  location       size  \\\n",
              "0  Super built-up  Area         19-Dec  Electronic City Phase II      2 BHK   \n",
              "1            Plot  Area  Ready To Move          Chikka Tirupathi  4 Bedroom   \n",
              "2        Built-up  Area  Ready To Move               Uttarahalli      3 BHK   \n",
              "3  Super built-up  Area  Ready To Move        Lingadheeranahalli      3 BHK   \n",
              "4  Super built-up  Area  Ready To Move                  Kothanur      2 BHK   \n",
              "\n",
              "   society total_sqft  bath  balcony   price  \n",
              "0  Coomee        1056   2.0      1.0   39.07  \n",
              "1  Theanmp       2600   5.0      3.0  120.00  \n",
              "2      NaN       1440   2.0      3.0   62.00  \n",
              "3  Soiewre       1521   3.0      1.0   95.00  \n",
              "4      NaN       1200   2.0      1.0   51.00  "
            ]
          },
          "execution_count": 3,
          "metadata": {},
          "output_type": "execute_result"
        }
      ],
      "source": [
        "data=pd.read_csv(\".\\\\Bengaluru_House_Data.csv\")\n",
        "data.head()"
      ]
    },
    {
      "cell_type": "code",
      "execution_count": 4,
      "metadata": {
        "id": "OZ-hExoDvqB0"
      },
      "outputs": [],
      "source": [
        "#data cleaning begins"
      ]
    },
    {
      "cell_type": "code",
      "execution_count": 5,
      "metadata": {
        "colab": {
          "base_uri": "https://localhost:8080/"
        },
        "id": "9xLURDdzqZa3",
        "outputId": "df1cbde5-e82f-4b2b-e17d-954925ee567e"
      },
      "outputs": [
        {
          "data": {
            "text/plain": [
              "array(['Super built-up  Area', 'Plot  Area', 'Built-up  Area',\n",
              "       'Carpet  Area'], dtype=object)"
            ]
          },
          "execution_count": 5,
          "metadata": {},
          "output_type": "execute_result"
        }
      ],
      "source": [
        "data.area_type.unique()"
      ]
    },
    {
      "cell_type": "code",
      "execution_count": 6,
      "metadata": {
        "id": "Z5thfk1RYCcQ"
      },
      "outputs": [],
      "source": [
        "data.drop(['availability','area_type','society','balcony'],axis=1,inplace=True) # he drops areatype insteaad of label encoding"
      ]
    },
    {
      "cell_type": "code",
      "execution_count": 7,
      "metadata": {
        "colab": {
          "base_uri": "https://localhost:8080/",
          "height": 206
        },
        "id": "TE5-U2EENjPH",
        "outputId": "9b1d2269-e668-4321-efa3-5caa146f9bc7"
      },
      "outputs": [
        {
          "name": "stderr",
          "output_type": "stream",
          "text": [
            "C:\\Users\\SV\\AppData\\Local\\Temp\\ipykernel_10116\\3792323191.py:2: FutureWarning: A value is trying to be set on a copy of a DataFrame or Series through chained assignment using an inplace method.\n",
            "The behavior will change in pandas 3.0. This inplace method will never work because the intermediate object on which we are setting values always behaves as a copy.\n",
            "\n",
            "For example, when doing 'df[col].method(value, inplace=True)', try using 'df.method({col: value}, inplace=True)' or df[col] = df[col].method(value) instead, to perform the operation inplace on the original object.\n",
            "\n",
            "\n",
            "  data['bath'].fillna(median,inplace=True)\n"
          ]
        },
        {
          "data": {
            "text/html": [
              "<div>\n",
              "<style scoped>\n",
              "    .dataframe tbody tr th:only-of-type {\n",
              "        vertical-align: middle;\n",
              "    }\n",
              "\n",
              "    .dataframe tbody tr th {\n",
              "        vertical-align: top;\n",
              "    }\n",
              "\n",
              "    .dataframe thead th {\n",
              "        text-align: right;\n",
              "    }\n",
              "</style>\n",
              "<table border=\"1\" class=\"dataframe\">\n",
              "  <thead>\n",
              "    <tr style=\"text-align: right;\">\n",
              "      <th></th>\n",
              "      <th>location</th>\n",
              "      <th>size</th>\n",
              "      <th>total_sqft</th>\n",
              "      <th>bath</th>\n",
              "      <th>price</th>\n",
              "    </tr>\n",
              "  </thead>\n",
              "  <tbody>\n",
              "    <tr>\n",
              "      <th>0</th>\n",
              "      <td>Electronic City Phase II</td>\n",
              "      <td>2 BHK</td>\n",
              "      <td>1056</td>\n",
              "      <td>2.0</td>\n",
              "      <td>39.07</td>\n",
              "    </tr>\n",
              "    <tr>\n",
              "      <th>1</th>\n",
              "      <td>Chikka Tirupathi</td>\n",
              "      <td>4 Bedroom</td>\n",
              "      <td>2600</td>\n",
              "      <td>5.0</td>\n",
              "      <td>120.00</td>\n",
              "    </tr>\n",
              "    <tr>\n",
              "      <th>2</th>\n",
              "      <td>Uttarahalli</td>\n",
              "      <td>3 BHK</td>\n",
              "      <td>1440</td>\n",
              "      <td>2.0</td>\n",
              "      <td>62.00</td>\n",
              "    </tr>\n",
              "    <tr>\n",
              "      <th>3</th>\n",
              "      <td>Lingadheeranahalli</td>\n",
              "      <td>3 BHK</td>\n",
              "      <td>1521</td>\n",
              "      <td>3.0</td>\n",
              "      <td>95.00</td>\n",
              "    </tr>\n",
              "    <tr>\n",
              "      <th>4</th>\n",
              "      <td>Kothanur</td>\n",
              "      <td>2 BHK</td>\n",
              "      <td>1200</td>\n",
              "      <td>2.0</td>\n",
              "      <td>51.00</td>\n",
              "    </tr>\n",
              "  </tbody>\n",
              "</table>\n",
              "</div>"
            ],
            "text/plain": [
              "                   location       size total_sqft  bath   price\n",
              "0  Electronic City Phase II      2 BHK       1056   2.0   39.07\n",
              "1          Chikka Tirupathi  4 Bedroom       2600   5.0  120.00\n",
              "2               Uttarahalli      3 BHK       1440   2.0   62.00\n",
              "3        Lingadheeranahalli      3 BHK       1521   3.0   95.00\n",
              "4                  Kothanur      2 BHK       1200   2.0   51.00"
            ]
          },
          "execution_count": 7,
          "metadata": {},
          "output_type": "execute_result"
        }
      ],
      "source": [
        "median=np.median(data['bath'].dropna())\n",
        "data['bath'].fillna(median,inplace=True)\n",
        "data.head()"
      ]
    },
    {
      "cell_type": "code",
      "execution_count": 8,
      "metadata": {
        "colab": {
          "base_uri": "https://localhost:8080/",
          "height": 241
        },
        "id": "77LIblK9Zqh8",
        "outputId": "373e7c2f-bf31-4784-86e6-6009f865b022"
      },
      "outputs": [
        {
          "data": {
            "text/plain": [
              "location       1\n",
              "size          16\n",
              "total_sqft     0\n",
              "bath           0\n",
              "price          0\n",
              "dtype: int64"
            ]
          },
          "execution_count": 8,
          "metadata": {},
          "output_type": "execute_result"
        }
      ],
      "source": [
        "data.isnull().sum()"
      ]
    },
    {
      "cell_type": "code",
      "execution_count": 9,
      "metadata": {
        "colab": {
          "base_uri": "https://localhost:8080/",
          "height": 206
        },
        "id": "0KHHgBKba26A",
        "outputId": "443f6b32-c0c6-4d39-ffc3-f6c799499f41"
      },
      "outputs": [
        {
          "name": "stderr",
          "output_type": "stream",
          "text": [
            "C:\\Users\\SV\\AppData\\Local\\Temp\\ipykernel_10116\\3818363600.py:4: FutureWarning: A value is trying to be set on a copy of a DataFrame or Series through chained assignment using an inplace method.\n",
            "The behavior will change in pandas 3.0. This inplace method will never work because the intermediate object on which we are setting values always behaves as a copy.\n",
            "\n",
            "For example, when doing 'df[col].method(value, inplace=True)', try using 'df.method({col: value}, inplace=True)' or df[col] = df[col].method(value) instead, to perform the operation inplace on the original object.\n",
            "\n",
            "\n",
            "  data['bhk'].fillna(median2,inplace=True)\n"
          ]
        },
        {
          "data": {
            "text/html": [
              "<div>\n",
              "<style scoped>\n",
              "    .dataframe tbody tr th:only-of-type {\n",
              "        vertical-align: middle;\n",
              "    }\n",
              "\n",
              "    .dataframe tbody tr th {\n",
              "        vertical-align: top;\n",
              "    }\n",
              "\n",
              "    .dataframe thead th {\n",
              "        text-align: right;\n",
              "    }\n",
              "</style>\n",
              "<table border=\"1\" class=\"dataframe\">\n",
              "  <thead>\n",
              "    <tr style=\"text-align: right;\">\n",
              "      <th></th>\n",
              "      <th>location</th>\n",
              "      <th>total_sqft</th>\n",
              "      <th>bath</th>\n",
              "      <th>price</th>\n",
              "      <th>bhk</th>\n",
              "    </tr>\n",
              "  </thead>\n",
              "  <tbody>\n",
              "    <tr>\n",
              "      <th>0</th>\n",
              "      <td>Electronic City Phase II</td>\n",
              "      <td>1056</td>\n",
              "      <td>2.0</td>\n",
              "      <td>39.07</td>\n",
              "      <td>2</td>\n",
              "    </tr>\n",
              "    <tr>\n",
              "      <th>1</th>\n",
              "      <td>Chikka Tirupathi</td>\n",
              "      <td>2600</td>\n",
              "      <td>5.0</td>\n",
              "      <td>120.00</td>\n",
              "      <td>4</td>\n",
              "    </tr>\n",
              "    <tr>\n",
              "      <th>2</th>\n",
              "      <td>Uttarahalli</td>\n",
              "      <td>1440</td>\n",
              "      <td>2.0</td>\n",
              "      <td>62.00</td>\n",
              "      <td>3</td>\n",
              "    </tr>\n",
              "    <tr>\n",
              "      <th>3</th>\n",
              "      <td>Lingadheeranahalli</td>\n",
              "      <td>1521</td>\n",
              "      <td>3.0</td>\n",
              "      <td>95.00</td>\n",
              "      <td>3</td>\n",
              "    </tr>\n",
              "    <tr>\n",
              "      <th>4</th>\n",
              "      <td>Kothanur</td>\n",
              "      <td>1200</td>\n",
              "      <td>2.0</td>\n",
              "      <td>51.00</td>\n",
              "      <td>2</td>\n",
              "    </tr>\n",
              "  </tbody>\n",
              "</table>\n",
              "</div>"
            ],
            "text/plain": [
              "                   location total_sqft  bath   price  bhk\n",
              "0  Electronic City Phase II       1056   2.0   39.07    2\n",
              "1          Chikka Tirupathi       2600   5.0  120.00    4\n",
              "2               Uttarahalli       1440   2.0   62.00    3\n",
              "3        Lingadheeranahalli       1521   3.0   95.00    3\n",
              "4                  Kothanur       1200   2.0   51.00    2"
            ]
          },
          "execution_count": 9,
          "metadata": {},
          "output_type": "execute_result"
        }
      ],
      "source": [
        "data['bhk']=data['size'].astype(str).apply(lambda x: x.split(\" \")[0])\n",
        "data['bhk'] = pd.to_numeric(data['bhk'], errors='coerce')\n",
        "median2 = data['bhk'].dropna().median()\n",
        "data['bhk'].fillna(median2,inplace=True)\n",
        "data['bhk']=data['bhk'].astype('int')\n",
        "data.drop(['size'],axis=1,inplace=True)\n",
        "data.head()"
      ]
    },
    {
      "cell_type": "code",
      "execution_count": 10,
      "metadata": {
        "colab": {
          "base_uri": "https://localhost:8080/"
        },
        "id": "RQfVflW-cMzC",
        "outputId": "3eeda1f0-1fcc-40e7-a377-08acba98d149"
      },
      "outputs": [
        {
          "data": {
            "text/plain": [
              "array([ 2,  4,  3,  6,  1,  8,  7,  5, 11,  9, 27, 10, 19, 16, 43, 14, 12,\n",
              "       13, 18])"
            ]
          },
          "execution_count": 10,
          "metadata": {},
          "output_type": "execute_result"
        }
      ],
      "source": [
        "data['bhk'].unique()"
      ]
    },
    {
      "cell_type": "code",
      "execution_count": 11,
      "metadata": {
        "colab": {
          "base_uri": "https://localhost:8080/",
          "height": 112
        },
        "id": "T35uay5TcTqH",
        "outputId": "a8330952-4c9b-4b85-ee72-98690fb8b112"
      },
      "outputs": [
        {
          "data": {
            "text/html": [
              "<div>\n",
              "<style scoped>\n",
              "    .dataframe tbody tr th:only-of-type {\n",
              "        vertical-align: middle;\n",
              "    }\n",
              "\n",
              "    .dataframe tbody tr th {\n",
              "        vertical-align: top;\n",
              "    }\n",
              "\n",
              "    .dataframe thead th {\n",
              "        text-align: right;\n",
              "    }\n",
              "</style>\n",
              "<table border=\"1\" class=\"dataframe\">\n",
              "  <thead>\n",
              "    <tr style=\"text-align: right;\">\n",
              "      <th></th>\n",
              "      <th>location</th>\n",
              "      <th>total_sqft</th>\n",
              "      <th>bath</th>\n",
              "      <th>price</th>\n",
              "      <th>bhk</th>\n",
              "    </tr>\n",
              "  </thead>\n",
              "  <tbody>\n",
              "    <tr>\n",
              "      <th>1718</th>\n",
              "      <td>2Electronic City Phase II</td>\n",
              "      <td>8000</td>\n",
              "      <td>27.0</td>\n",
              "      <td>230.0</td>\n",
              "      <td>27</td>\n",
              "    </tr>\n",
              "    <tr>\n",
              "      <th>4684</th>\n",
              "      <td>Munnekollal</td>\n",
              "      <td>2400</td>\n",
              "      <td>40.0</td>\n",
              "      <td>660.0</td>\n",
              "      <td>43</td>\n",
              "    </tr>\n",
              "  </tbody>\n",
              "</table>\n",
              "</div>"
            ],
            "text/plain": [
              "                       location total_sqft  bath  price  bhk\n",
              "1718  2Electronic City Phase II       8000  27.0  230.0   27\n",
              "4684                Munnekollal       2400  40.0  660.0   43"
            ]
          },
          "execution_count": 11,
          "metadata": {},
          "output_type": "execute_result"
        }
      ],
      "source": [
        "data[data['bhk']>20]"
      ]
    },
    {
      "cell_type": "code",
      "execution_count": 12,
      "metadata": {
        "colab": {
          "base_uri": "https://localhost:8080/",
          "height": 81
        },
        "id": "-KW23jpFhm5g",
        "outputId": "7d792328-b74a-4ef0-a13c-fcb12fecf3ed"
      },
      "outputs": [
        {
          "data": {
            "text/html": [
              "<div>\n",
              "<style scoped>\n",
              "    .dataframe tbody tr th:only-of-type {\n",
              "        vertical-align: middle;\n",
              "    }\n",
              "\n",
              "    .dataframe tbody tr th {\n",
              "        vertical-align: top;\n",
              "    }\n",
              "\n",
              "    .dataframe thead th {\n",
              "        text-align: right;\n",
              "    }\n",
              "</style>\n",
              "<table border=\"1\" class=\"dataframe\">\n",
              "  <thead>\n",
              "    <tr style=\"text-align: right;\">\n",
              "      <th></th>\n",
              "      <th>location</th>\n",
              "      <th>total_sqft</th>\n",
              "      <th>bath</th>\n",
              "      <th>price</th>\n",
              "      <th>bhk</th>\n",
              "    </tr>\n",
              "  </thead>\n",
              "  <tbody>\n",
              "    <tr>\n",
              "      <th>1718</th>\n",
              "      <td>2Electronic City Phase II</td>\n",
              "      <td>8000</td>\n",
              "      <td>27.0</td>\n",
              "      <td>230.0</td>\n",
              "      <td>27</td>\n",
              "    </tr>\n",
              "  </tbody>\n",
              "</table>\n",
              "</div>"
            ],
            "text/plain": [
              "                       location total_sqft  bath  price  bhk\n",
              "1718  2Electronic City Phase II       8000  27.0  230.0   27"
            ]
          },
          "execution_count": 12,
          "metadata": {},
          "output_type": "execute_result"
        }
      ],
      "source": [
        "data.drop(data[data['bath']==40].index,axis=0,inplace=True)  # its not possible to have 40 bathrooms with only 2400 sqft\n",
        "data[data['bhk']>20]"
      ]
    },
    {
      "cell_type": "code",
      "execution_count": 13,
      "metadata": {
        "colab": {
          "base_uri": "https://localhost:8080/"
        },
        "id": "3RN22jxAXhJ9",
        "outputId": "340ff834-3f23-4a34-9391-6d104746221f"
      },
      "outputs": [
        {
          "data": {
            "text/plain": [
              "array(['1056', '2600', '1440', ..., '1133 - 1384', '774', '4689'],\n",
              "      dtype=object)"
            ]
          },
          "execution_count": 13,
          "metadata": {},
          "output_type": "execute_result"
        }
      ],
      "source": [
        "data['total_sqft'].unique()"
      ]
    },
    {
      "cell_type": "code",
      "execution_count": 14,
      "metadata": {
        "id": "MzTf7VI0YorV"
      },
      "outputs": [],
      "source": [
        "def is_float(string):\n",
        "  try:\n",
        "    float(string)\n",
        "  except:\n",
        "    return False\n",
        "  return True"
      ]
    },
    {
      "cell_type": "code",
      "execution_count": 15,
      "metadata": {
        "colab": {
          "base_uri": "https://localhost:8080/",
          "height": 676
        },
        "id": "iyd460vgkjsM",
        "outputId": "204ea2d6-70a6-4cb9-fb05-cc74b8cc023e"
      },
      "outputs": [
        {
          "data": {
            "text/html": [
              "<div>\n",
              "<style scoped>\n",
              "    .dataframe tbody tr th:only-of-type {\n",
              "        vertical-align: middle;\n",
              "    }\n",
              "\n",
              "    .dataframe tbody tr th {\n",
              "        vertical-align: top;\n",
              "    }\n",
              "\n",
              "    .dataframe thead th {\n",
              "        text-align: right;\n",
              "    }\n",
              "</style>\n",
              "<table border=\"1\" class=\"dataframe\">\n",
              "  <thead>\n",
              "    <tr style=\"text-align: right;\">\n",
              "      <th></th>\n",
              "      <th>location</th>\n",
              "      <th>total_sqft</th>\n",
              "      <th>bath</th>\n",
              "      <th>price</th>\n",
              "      <th>bhk</th>\n",
              "    </tr>\n",
              "  </thead>\n",
              "  <tbody>\n",
              "    <tr>\n",
              "      <th>30</th>\n",
              "      <td>Yelahanka</td>\n",
              "      <td>2100 - 2850</td>\n",
              "      <td>4.0</td>\n",
              "      <td>186.000</td>\n",
              "      <td>4</td>\n",
              "    </tr>\n",
              "    <tr>\n",
              "      <th>56</th>\n",
              "      <td>Devanahalli</td>\n",
              "      <td>3010 - 3410</td>\n",
              "      <td>2.0</td>\n",
              "      <td>192.000</td>\n",
              "      <td>4</td>\n",
              "    </tr>\n",
              "    <tr>\n",
              "      <th>81</th>\n",
              "      <td>Hennur Road</td>\n",
              "      <td>2957 - 3450</td>\n",
              "      <td>2.0</td>\n",
              "      <td>224.500</td>\n",
              "      <td>4</td>\n",
              "    </tr>\n",
              "    <tr>\n",
              "      <th>122</th>\n",
              "      <td>Hebbal</td>\n",
              "      <td>3067 - 8156</td>\n",
              "      <td>4.0</td>\n",
              "      <td>477.000</td>\n",
              "      <td>4</td>\n",
              "    </tr>\n",
              "    <tr>\n",
              "      <th>137</th>\n",
              "      <td>8th Phase JP Nagar</td>\n",
              "      <td>1042 - 1105</td>\n",
              "      <td>2.0</td>\n",
              "      <td>54.005</td>\n",
              "      <td>2</td>\n",
              "    </tr>\n",
              "    <tr>\n",
              "      <th>165</th>\n",
              "      <td>Sarjapur</td>\n",
              "      <td>1145 - 1340</td>\n",
              "      <td>2.0</td>\n",
              "      <td>43.490</td>\n",
              "      <td>2</td>\n",
              "    </tr>\n",
              "    <tr>\n",
              "      <th>188</th>\n",
              "      <td>KR Puram</td>\n",
              "      <td>1015 - 1540</td>\n",
              "      <td>2.0</td>\n",
              "      <td>56.800</td>\n",
              "      <td>2</td>\n",
              "    </tr>\n",
              "    <tr>\n",
              "      <th>224</th>\n",
              "      <td>Devanahalli</td>\n",
              "      <td>1520 - 1740</td>\n",
              "      <td>2.0</td>\n",
              "      <td>74.820</td>\n",
              "      <td>3</td>\n",
              "    </tr>\n",
              "    <tr>\n",
              "      <th>410</th>\n",
              "      <td>Kengeri</td>\n",
              "      <td>34.46Sq. Meter</td>\n",
              "      <td>1.0</td>\n",
              "      <td>18.500</td>\n",
              "      <td>1</td>\n",
              "    </tr>\n",
              "    <tr>\n",
              "      <th>549</th>\n",
              "      <td>Hennur Road</td>\n",
              "      <td>1195 - 1440</td>\n",
              "      <td>2.0</td>\n",
              "      <td>63.770</td>\n",
              "      <td>2</td>\n",
              "    </tr>\n",
              "    <tr>\n",
              "      <th>579</th>\n",
              "      <td>Sarjapur  Road</td>\n",
              "      <td>1200 - 2400</td>\n",
              "      <td>2.0</td>\n",
              "      <td>34.185</td>\n",
              "      <td>3</td>\n",
              "    </tr>\n",
              "    <tr>\n",
              "      <th>648</th>\n",
              "      <td>Arekere</td>\n",
              "      <td>4125Perch</td>\n",
              "      <td>9.0</td>\n",
              "      <td>265.000</td>\n",
              "      <td>9</td>\n",
              "    </tr>\n",
              "    <tr>\n",
              "      <th>661</th>\n",
              "      <td>Yelahanka</td>\n",
              "      <td>1120 - 1145</td>\n",
              "      <td>2.0</td>\n",
              "      <td>48.130</td>\n",
              "      <td>2</td>\n",
              "    </tr>\n",
              "    <tr>\n",
              "      <th>669</th>\n",
              "      <td>JP Nagar</td>\n",
              "      <td>4400 - 6640</td>\n",
              "      <td>2.0</td>\n",
              "      <td>375.000</td>\n",
              "      <td>5</td>\n",
              "    </tr>\n",
              "    <tr>\n",
              "      <th>672</th>\n",
              "      <td>Bettahalsoor</td>\n",
              "      <td>3090 - 5002</td>\n",
              "      <td>4.0</td>\n",
              "      <td>445.000</td>\n",
              "      <td>4</td>\n",
              "    </tr>\n",
              "    <tr>\n",
              "      <th>702</th>\n",
              "      <td>JP Nagar</td>\n",
              "      <td>4400 - 6800</td>\n",
              "      <td>2.0</td>\n",
              "      <td>548.500</td>\n",
              "      <td>5</td>\n",
              "    </tr>\n",
              "    <tr>\n",
              "      <th>772</th>\n",
              "      <td>Banashankari Stage VI</td>\n",
              "      <td>1160 - 1195</td>\n",
              "      <td>2.0</td>\n",
              "      <td>59.935</td>\n",
              "      <td>2</td>\n",
              "    </tr>\n",
              "    <tr>\n",
              "      <th>775</th>\n",
              "      <td>Basavanagara</td>\n",
              "      <td>1000Sq. Meter</td>\n",
              "      <td>2.0</td>\n",
              "      <td>93.000</td>\n",
              "      <td>1</td>\n",
              "    </tr>\n",
              "    <tr>\n",
              "      <th>801</th>\n",
              "      <td>JP Nagar</td>\n",
              "      <td>4000 - 5249</td>\n",
              "      <td>2.0</td>\n",
              "      <td>453.000</td>\n",
              "      <td>4</td>\n",
              "    </tr>\n",
              "    <tr>\n",
              "      <th>850</th>\n",
              "      <td>Bannerghatta Road</td>\n",
              "      <td>1115 - 1130</td>\n",
              "      <td>2.0</td>\n",
              "      <td>58.935</td>\n",
              "      <td>2</td>\n",
              "    </tr>\n",
              "  </tbody>\n",
              "</table>\n",
              "</div>"
            ],
            "text/plain": [
              "                  location      total_sqft  bath    price  bhk\n",
              "30               Yelahanka     2100 - 2850   4.0  186.000    4\n",
              "56             Devanahalli     3010 - 3410   2.0  192.000    4\n",
              "81             Hennur Road     2957 - 3450   2.0  224.500    4\n",
              "122                 Hebbal     3067 - 8156   4.0  477.000    4\n",
              "137     8th Phase JP Nagar     1042 - 1105   2.0   54.005    2\n",
              "165               Sarjapur     1145 - 1340   2.0   43.490    2\n",
              "188               KR Puram     1015 - 1540   2.0   56.800    2\n",
              "224            Devanahalli     1520 - 1740   2.0   74.820    3\n",
              "410                Kengeri  34.46Sq. Meter   1.0   18.500    1\n",
              "549            Hennur Road     1195 - 1440   2.0   63.770    2\n",
              "579         Sarjapur  Road     1200 - 2400   2.0   34.185    3\n",
              "648                Arekere       4125Perch   9.0  265.000    9\n",
              "661              Yelahanka     1120 - 1145   2.0   48.130    2\n",
              "669               JP Nagar     4400 - 6640   2.0  375.000    5\n",
              "672           Bettahalsoor     3090 - 5002   4.0  445.000    4\n",
              "702               JP Nagar     4400 - 6800   2.0  548.500    5\n",
              "772  Banashankari Stage VI     1160 - 1195   2.0   59.935    2\n",
              "775           Basavanagara   1000Sq. Meter   2.0   93.000    1\n",
              "801               JP Nagar     4000 - 5249   2.0  453.000    4\n",
              "850      Bannerghatta Road     1115 - 1130   2.0   58.935    2"
            ]
          },
          "execution_count": 15,
          "metadata": {},
          "output_type": "execute_result"
        }
      ],
      "source": [
        "data[~data['total_sqft'].apply(is_float)].head(20)"
      ]
    },
    {
      "cell_type": "code",
      "execution_count": 16,
      "metadata": {
        "id": "yODlIxw3lWMi"
      },
      "outputs": [],
      "source": [
        "def convert_sqft_to_num(x):\n",
        "  tokens=x.split('-')\n",
        "  if len(tokens)==2:\n",
        "    return(float(tokens[0])+float(tokens[1]))/2\n",
        "  try:\n",
        "    return float(x)\n",
        "  except:\n",
        "    return None"
      ]
    },
    {
      "cell_type": "code",
      "execution_count": 17,
      "metadata": {
        "colab": {
          "base_uri": "https://localhost:8080/",
          "height": 53
        },
        "id": "N2EL4bDmOiwK",
        "outputId": "5cfa892f-98dc-41b3-f14d-04ac48e3f48a"
      },
      "outputs": [
        {
          "data": {
            "text/html": [
              "<div>\n",
              "<style scoped>\n",
              "    .dataframe tbody tr th:only-of-type {\n",
              "        vertical-align: middle;\n",
              "    }\n",
              "\n",
              "    .dataframe tbody tr th {\n",
              "        vertical-align: top;\n",
              "    }\n",
              "\n",
              "    .dataframe thead th {\n",
              "        text-align: right;\n",
              "    }\n",
              "</style>\n",
              "<table border=\"1\" class=\"dataframe\">\n",
              "  <thead>\n",
              "    <tr style=\"text-align: right;\">\n",
              "      <th></th>\n",
              "      <th>location</th>\n",
              "      <th>total_sqft</th>\n",
              "      <th>bath</th>\n",
              "      <th>price</th>\n",
              "      <th>bhk</th>\n",
              "    </tr>\n",
              "  </thead>\n",
              "  <tbody>\n",
              "  </tbody>\n",
              "</table>\n",
              "</div>"
            ],
            "text/plain": [
              "Empty DataFrame\n",
              "Columns: [location, total_sqft, bath, price, bhk]\n",
              "Index: []"
            ]
          },
          "execution_count": 17,
          "metadata": {},
          "output_type": "execute_result"
        }
      ],
      "source": [
        "data['total_sqft']=data['total_sqft'].apply(convert_sqft_to_num)\n",
        "data[~data['total_sqft'].apply(is_float)].head(20)"
      ]
    },
    {
      "cell_type": "code",
      "execution_count": 18,
      "metadata": {
        "colab": {
          "base_uri": "https://localhost:8080/",
          "height": 241
        },
        "id": "__RllKBerf76",
        "outputId": "7f94729c-35ca-4afa-c4da-0b8cd089a24b"
      },
      "outputs": [
        {
          "data": {
            "text/plain": [
              "location      Basavanagara\n",
              "total_sqft             NaN\n",
              "bath                   2.0\n",
              "price                 93.0\n",
              "bhk                      1\n",
              "Name: 775, dtype: object"
            ]
          },
          "execution_count": 18,
          "metadata": {},
          "output_type": "execute_result"
        }
      ],
      "source": [
        "data.loc[775]"
      ]
    },
    {
      "cell_type": "code",
      "execution_count": 23,
      "metadata": {
        "id": "F9xZGGEmrpJ5"
      },
      "outputs": [
        {
          "data": {
            "text/plain": [
              "(13272, 5)"
            ]
          },
          "execution_count": 23,
          "metadata": {},
          "output_type": "execute_result"
        }
      ],
      "source": [
        "data['total_sqft'] = pd.to_numeric(data['total_sqft'], errors='coerce')  # non number to nan\n",
        "data.dropna(subset=['total_sqft'],inplace=True)\n",
        "data=data.dropna()\n",
        "data.shape"
      ]
    },
    {
      "cell_type": "code",
      "execution_count": 24,
      "metadata": {
        "id": "K3oyXQmyuV6T"
      },
      "outputs": [],
      "source": [
        "# Dimension reduction"
      ]
    },
    {
      "cell_type": "code",
      "execution_count": 25,
      "metadata": {
        "colab": {
          "base_uri": "https://localhost:8080/"
        },
        "id": "FSUJauOKPeFl",
        "outputId": "10c2508e-cc2c-4a5d-c608-1a4b2b3e8c38"
      },
      "outputs": [
        {
          "data": {
            "text/plain": [
              "1299"
            ]
          },
          "execution_count": 25,
          "metadata": {},
          "output_type": "execute_result"
        }
      ],
      "source": [
        "len(data['location'].unique())"
      ]
    },
    {
      "cell_type": "code",
      "execution_count": 26,
      "metadata": {
        "id": "XT1CQ7OZwmpL"
      },
      "outputs": [],
      "source": [
        "location_stats=data['location'].value_counts().sort_values(ascending=False)"
      ]
    },
    {
      "cell_type": "code",
      "execution_count": 27,
      "metadata": {
        "id": "EWEf95WdxpqX"
      },
      "outputs": [],
      "source": [
        "loc_less_than_10=location_stats[location_stats<=10]"
      ]
    },
    {
      "cell_type": "code",
      "execution_count": 28,
      "metadata": {
        "colab": {
          "base_uri": "https://localhost:8080/"
        },
        "id": "TMv-jHe6Ja9n",
        "outputId": "f0c4380c-8ab4-4f3e-fb75-01e7043fdc47"
      },
      "outputs": [
        {
          "data": {
            "text/plain": [
              "1059"
            ]
          },
          "execution_count": 28,
          "metadata": {},
          "output_type": "execute_result"
        }
      ],
      "source": [
        "len(loc_less_than_10)"
      ]
    },
    {
      "cell_type": "code",
      "execution_count": 29,
      "metadata": {
        "colab": {
          "base_uri": "https://localhost:8080/"
        },
        "id": "JmEB2C62KR3_",
        "outputId": "af43c58f-4e49-4851-a411-5975da927b83"
      },
      "outputs": [
        {
          "data": {
            "text/plain": [
              "1299"
            ]
          },
          "execution_count": 29,
          "metadata": {},
          "output_type": "execute_result"
        }
      ],
      "source": [
        "len(data.location.unique())"
      ]
    },
    {
      "cell_type": "code",
      "execution_count": 30,
      "metadata": {
        "colab": {
          "base_uri": "https://localhost:8080/"
        },
        "id": "TKiVHoh0KoaK",
        "outputId": "f3582093-c108-4abd-d906-67be2215f340"
      },
      "outputs": [
        {
          "data": {
            "text/plain": [
              "241"
            ]
          },
          "execution_count": 30,
          "metadata": {},
          "output_type": "execute_result"
        }
      ],
      "source": [
        "data.location=data.location.apply(lambda x: 'other' if x in loc_less_than_10 else x)\n",
        "len(data.location.unique())"
      ]
    },
    {
      "cell_type": "code",
      "execution_count": 31,
      "metadata": {
        "colab": {
          "base_uri": "https://localhost:8080/",
          "height": 206
        },
        "id": "q5G9jl6yLXAz",
        "outputId": "49dddd6b-24a0-42a3-f103-4b0818c8c3e4"
      },
      "outputs": [
        {
          "data": {
            "text/html": [
              "<div>\n",
              "<style scoped>\n",
              "    .dataframe tbody tr th:only-of-type {\n",
              "        vertical-align: middle;\n",
              "    }\n",
              "\n",
              "    .dataframe tbody tr th {\n",
              "        vertical-align: top;\n",
              "    }\n",
              "\n",
              "    .dataframe thead th {\n",
              "        text-align: right;\n",
              "    }\n",
              "</style>\n",
              "<table border=\"1\" class=\"dataframe\">\n",
              "  <thead>\n",
              "    <tr style=\"text-align: right;\">\n",
              "      <th></th>\n",
              "      <th>location</th>\n",
              "      <th>total_sqft</th>\n",
              "      <th>bath</th>\n",
              "      <th>price</th>\n",
              "      <th>bhk</th>\n",
              "    </tr>\n",
              "  </thead>\n",
              "  <tbody>\n",
              "    <tr>\n",
              "      <th>9</th>\n",
              "      <td>other</td>\n",
              "      <td>1020.0</td>\n",
              "      <td>6.0</td>\n",
              "      <td>370.0</td>\n",
              "      <td>6</td>\n",
              "    </tr>\n",
              "    <tr>\n",
              "      <th>45</th>\n",
              "      <td>HSR Layout</td>\n",
              "      <td>600.0</td>\n",
              "      <td>9.0</td>\n",
              "      <td>200.0</td>\n",
              "      <td>8</td>\n",
              "    </tr>\n",
              "    <tr>\n",
              "      <th>58</th>\n",
              "      <td>Murugeshpalya</td>\n",
              "      <td>1407.0</td>\n",
              "      <td>4.0</td>\n",
              "      <td>150.0</td>\n",
              "      <td>6</td>\n",
              "    </tr>\n",
              "    <tr>\n",
              "      <th>68</th>\n",
              "      <td>other</td>\n",
              "      <td>1350.0</td>\n",
              "      <td>7.0</td>\n",
              "      <td>85.0</td>\n",
              "      <td>8</td>\n",
              "    </tr>\n",
              "    <tr>\n",
              "      <th>70</th>\n",
              "      <td>other</td>\n",
              "      <td>500.0</td>\n",
              "      <td>3.0</td>\n",
              "      <td>100.0</td>\n",
              "      <td>3</td>\n",
              "    </tr>\n",
              "  </tbody>\n",
              "</table>\n",
              "</div>"
            ],
            "text/plain": [
              "         location  total_sqft  bath  price  bhk\n",
              "9           other      1020.0   6.0  370.0    6\n",
              "45     HSR Layout       600.0   9.0  200.0    8\n",
              "58  Murugeshpalya      1407.0   4.0  150.0    6\n",
              "68          other      1350.0   7.0   85.0    8\n",
              "70          other       500.0   3.0  100.0    3"
            ]
          },
          "execution_count": 31,
          "metadata": {},
          "output_type": "execute_result"
        }
      ],
      "source": [
        "data[data.total_sqft/data.bhk < 300].head()  # got 300 by domain knowledge or friend\n",
        "#see 6 bhk in just 1020 all are outlier"
      ]
    },
    {
      "cell_type": "code",
      "execution_count": 32,
      "metadata": {
        "colab": {
          "base_uri": "https://localhost:8080/",
          "height": 206
        },
        "id": "nKpqtsftMmAC",
        "outputId": "4417dc64-2155-4696-dedc-94800880d956"
      },
      "outputs": [
        {
          "data": {
            "text/html": [
              "<div>\n",
              "<style scoped>\n",
              "    .dataframe tbody tr th:only-of-type {\n",
              "        vertical-align: middle;\n",
              "    }\n",
              "\n",
              "    .dataframe tbody tr th {\n",
              "        vertical-align: top;\n",
              "    }\n",
              "\n",
              "    .dataframe thead th {\n",
              "        text-align: right;\n",
              "    }\n",
              "</style>\n",
              "<table border=\"1\" class=\"dataframe\">\n",
              "  <thead>\n",
              "    <tr style=\"text-align: right;\">\n",
              "      <th></th>\n",
              "      <th>location</th>\n",
              "      <th>total_sqft</th>\n",
              "      <th>bath</th>\n",
              "      <th>price</th>\n",
              "      <th>bhk</th>\n",
              "    </tr>\n",
              "  </thead>\n",
              "  <tbody>\n",
              "    <tr>\n",
              "      <th>0</th>\n",
              "      <td>Electronic City Phase II</td>\n",
              "      <td>1056.0</td>\n",
              "      <td>2.0</td>\n",
              "      <td>39.07</td>\n",
              "      <td>2</td>\n",
              "    </tr>\n",
              "    <tr>\n",
              "      <th>1</th>\n",
              "      <td>Chikka Tirupathi</td>\n",
              "      <td>2600.0</td>\n",
              "      <td>5.0</td>\n",
              "      <td>120.00</td>\n",
              "      <td>4</td>\n",
              "    </tr>\n",
              "    <tr>\n",
              "      <th>2</th>\n",
              "      <td>Uttarahalli</td>\n",
              "      <td>1440.0</td>\n",
              "      <td>2.0</td>\n",
              "      <td>62.00</td>\n",
              "      <td>3</td>\n",
              "    </tr>\n",
              "    <tr>\n",
              "      <th>3</th>\n",
              "      <td>Lingadheeranahalli</td>\n",
              "      <td>1521.0</td>\n",
              "      <td>3.0</td>\n",
              "      <td>95.00</td>\n",
              "      <td>3</td>\n",
              "    </tr>\n",
              "    <tr>\n",
              "      <th>4</th>\n",
              "      <td>Kothanur</td>\n",
              "      <td>1200.0</td>\n",
              "      <td>2.0</td>\n",
              "      <td>51.00</td>\n",
              "      <td>2</td>\n",
              "    </tr>\n",
              "  </tbody>\n",
              "</table>\n",
              "</div>"
            ],
            "text/plain": [
              "                   location  total_sqft  bath   price  bhk\n",
              "0  Electronic City Phase II      1056.0   2.0   39.07    2\n",
              "1          Chikka Tirupathi      2600.0   5.0  120.00    4\n",
              "2               Uttarahalli      1440.0   2.0   62.00    3\n",
              "3        Lingadheeranahalli      1521.0   3.0   95.00    3\n",
              "4                  Kothanur      1200.0   2.0   51.00    2"
            ]
          },
          "execution_count": 32,
          "metadata": {},
          "output_type": "execute_result"
        }
      ],
      "source": [
        "data=data[~(data.total_sqft/data.bhk < 300)]\n",
        "data.head()"
      ]
    },
    {
      "cell_type": "code",
      "execution_count": 33,
      "metadata": {},
      "outputs": [],
      "source": [
        "# feature engineering starts"
      ]
    },
    {
      "cell_type": "code",
      "execution_count": 34,
      "metadata": {
        "colab": {
          "base_uri": "https://localhost:8080/",
          "height": 206
        },
        "id": "inkqF2Invv4A",
        "outputId": "7ac590a0-a5ba-4f6f-b9be-106e3e02d944"
      },
      "outputs": [
        {
          "data": {
            "text/html": [
              "<div>\n",
              "<style scoped>\n",
              "    .dataframe tbody tr th:only-of-type {\n",
              "        vertical-align: middle;\n",
              "    }\n",
              "\n",
              "    .dataframe tbody tr th {\n",
              "        vertical-align: top;\n",
              "    }\n",
              "\n",
              "    .dataframe thead th {\n",
              "        text-align: right;\n",
              "    }\n",
              "</style>\n",
              "<table border=\"1\" class=\"dataframe\">\n",
              "  <thead>\n",
              "    <tr style=\"text-align: right;\">\n",
              "      <th></th>\n",
              "      <th>location</th>\n",
              "      <th>total_sqft</th>\n",
              "      <th>bath</th>\n",
              "      <th>price</th>\n",
              "      <th>bhk</th>\n",
              "      <th>price_per_sqft</th>\n",
              "    </tr>\n",
              "  </thead>\n",
              "  <tbody>\n",
              "    <tr>\n",
              "      <th>0</th>\n",
              "      <td>Electronic City Phase II</td>\n",
              "      <td>1056.0</td>\n",
              "      <td>2.0</td>\n",
              "      <td>39.07</td>\n",
              "      <td>2</td>\n",
              "      <td>3699.810606</td>\n",
              "    </tr>\n",
              "    <tr>\n",
              "      <th>1</th>\n",
              "      <td>Chikka Tirupathi</td>\n",
              "      <td>2600.0</td>\n",
              "      <td>5.0</td>\n",
              "      <td>120.00</td>\n",
              "      <td>4</td>\n",
              "      <td>4615.384615</td>\n",
              "    </tr>\n",
              "    <tr>\n",
              "      <th>2</th>\n",
              "      <td>Uttarahalli</td>\n",
              "      <td>1440.0</td>\n",
              "      <td>2.0</td>\n",
              "      <td>62.00</td>\n",
              "      <td>3</td>\n",
              "      <td>4305.555556</td>\n",
              "    </tr>\n",
              "    <tr>\n",
              "      <th>3</th>\n",
              "      <td>Lingadheeranahalli</td>\n",
              "      <td>1521.0</td>\n",
              "      <td>3.0</td>\n",
              "      <td>95.00</td>\n",
              "      <td>3</td>\n",
              "      <td>6245.890861</td>\n",
              "    </tr>\n",
              "    <tr>\n",
              "      <th>4</th>\n",
              "      <td>Kothanur</td>\n",
              "      <td>1200.0</td>\n",
              "      <td>2.0</td>\n",
              "      <td>51.00</td>\n",
              "      <td>2</td>\n",
              "      <td>4250.000000</td>\n",
              "    </tr>\n",
              "  </tbody>\n",
              "</table>\n",
              "</div>"
            ],
            "text/plain": [
              "                   location  total_sqft  bath   price  bhk  price_per_sqft\n",
              "0  Electronic City Phase II      1056.0   2.0   39.07    2     3699.810606\n",
              "1          Chikka Tirupathi      2600.0   5.0  120.00    4     4615.384615\n",
              "2               Uttarahalli      1440.0   2.0   62.00    3     4305.555556\n",
              "3        Lingadheeranahalli      1521.0   3.0   95.00    3     6245.890861\n",
              "4                  Kothanur      1200.0   2.0   51.00    2     4250.000000"
            ]
          },
          "execution_count": 34,
          "metadata": {},
          "output_type": "execute_result"
        }
      ],
      "source": [
        "data['price_per_sqft']=data['price']*100000/data['total_sqft']\n",
        "data.head()"
      ]
    },
    {
      "cell_type": "code",
      "execution_count": 72,
      "metadata": {
        "colab": {
          "base_uri": "https://localhost:8080/"
        },
        "id": "T65tz-422q9O",
        "outputId": "9d6ec4a4-ed25-44d0-9f71-fc190b4b3c57"
      },
      "outputs": [
        {
          "data": {
            "text/plain": [
              "(10304, 6)"
            ]
          },
          "execution_count": 72,
          "metadata": {},
          "output_type": "execute_result"
        }
      ],
      "source": [
        "def remove_pps_outliers(df):  # zscore 1 (68% retention), 2(95%), 3(99.7%)\n",
        "    df_out = pd.DataFrame()\n",
        "    for key, subdf in df.groupby('location'):  # in (m +- 1*std) datapoints lie withing 1 standard deviation away from mean\n",
        "        m = np.mean(subdf.price_per_sqft)\n",
        "        st = np.std(subdf.price_per_sqft)\n",
        "        reduced_df = subdf[(subdf.price_per_sqft>(m-st)) & (subdf.price_per_sqft<=(m+st))]  # mean + 3*std.. to this z score of 1 is choosen\n",
        "        df_out = pd.concat([df_out,reduced_df],ignore_index=True)\n",
        "    return df_out\n",
        "df2 = remove_pps_outliers(data)\n",
        "df2.shape"
      ]
    },
    {
      "cell_type": "code",
      "execution_count": 73,
      "metadata": {
        "id": "KPx2c6Wj4K7I"
      },
      "outputs": [],
      "source": [
        "import matplotlib.pyplot as plt"
      ]
    },
    {
      "cell_type": "code",
      "execution_count": 74,
      "metadata": {
        "id": "7S-Hy--04FhE"
      },
      "outputs": [],
      "source": [
        "def plot_scatter_chart(df,location):\n",
        "    bhk2 = df[(df.location==location) & (df.bhk==2)]\n",
        "    bhk3 = df[(df.location==location) & (df.bhk==3)]\n",
        "    plt.figure(figsize = (5,4))\n",
        "    plt.scatter(bhk2.total_sqft,bhk2.price,color='blue',label='2 BHK', s=50)\n",
        "    plt.scatter(bhk3.total_sqft,bhk3.price,marker='+', color='green',label='3 BHK', s=50)\n",
        "    plt.xlabel(\"Total Square Feet Area\")\n",
        "    plt.ylabel(\"Price (Lakh Indian Rupees)\")\n",
        "    plt.title(location)\n",
        "    plt.legend()"
      ]
    },
    {
      "cell_type": "code",
      "execution_count": 75,
      "metadata": {
        "colab": {
          "base_uri": "https://localhost:8080/",
          "height": 410
        },
        "id": "59nP1Y_46cX7",
        "outputId": "7297ea7c-57f8-4767-fe03-a3556d84350a"
      },
      "outputs": [
        {
          "data": {
            "image/png": "[encoded data removed]",
            "text/plain": [
              "<Figure size 500x400 with 1 Axes>"
            ]
          },
          "metadata": {},
          "output_type": "display_data"
        }
      ],
      "source": [
        "plot_scatter_chart(df2,\"Hebbal\") #so wrongs are there"
      ]
    },
    {
      "cell_type": "code",
      "execution_count": 76,
      "metadata": {
        "id": "xA5G4TR66w0I"
      },
      "outputs": [],
      "source": [
        "def remove_bhk_outliers(df):\n",
        "    exclude_indices = np.array([])\n",
        "    for location, location_df in df.groupby('location'):\n",
        "        bhk_stats = {}\n",
        "        for bhk, bhk_df in location_df.groupby('bhk'):\n",
        "            bhk_stats[bhk] = {\n",
        "                'mean': np.mean(bhk_df['price_per_sqft']),\n",
        "                'std': np.std(bhk_df['price_per_sqft']), \n",
        "                'count': bhk_df.shape[0] \n",
        "                } \n",
        "        for bhk, bhk_df in location_df.groupby('bhk'):\n",
        "            stats = bhk_stats.get(bhk - 1)\n",
        "            if stats and stats['count'] > 5:\n",
        "                exclude_indices = np.append(exclude_indices, bhk_df[bhk_df['price_per_sqft'] < (stats['mean'])].index.values)\n",
        "    return df.drop(exclude_indices, axis = 'index')\n",
        "df3 = remove_bhk_outliers(df2)"
      ]
    },
    {
      "cell_type": "code",
      "execution_count": 77,
      "metadata": {
        "colab": {
          "base_uri": "https://localhost:8080/",
          "height": 410
        },
        "id": "ja5P7yM2_2CB",
        "outputId": "5cb57c4c-fbef-418e-cfea-1c2d946734b5"
      },
      "outputs": [
        {
          "data": {
            "image/png": "[encoded data removed]",
            "text/plain": [
              "<Figure size 500x400 with 1 Axes>"
            ]
          },
          "metadata": {},
          "output_type": "display_data"
        }
      ],
      "source": [
        "plot_scatter_chart(df3,\"Hebbal\") # yayayy chuu mantrrr hogae"
      ]
    },
    {
      "cell_type": "code",
      "execution_count": 78,
      "metadata": {
        "colab": {
          "base_uri": "https://localhost:8080/"
        },
        "id": "vNXSpilRATUR",
        "outputId": "7a6498a3-73ad-4ce8-e5f4-6064b4e18c31"
      },
      "outputs": [
        {
          "data": {
            "text/plain": [
              "(7361, 6)"
            ]
          },
          "execution_count": 78,
          "metadata": {},
          "output_type": "execute_result"
        }
      ],
      "source": [
        "df3.reset_index(drop=True)\n",
        "df3.shape\n"
      ]
    },
    {
      "cell_type": "code",
      "execution_count": 79,
      "metadata": {
        "colab": {
          "base_uri": "https://localhost:8080/"
        },
        "id": "xcx0AYLJawH8",
        "outputId": "fa4c2d56-d1a8-4cac-e5e6-e7315dcbd777"
      },
      "outputs": [
        {
          "data": {
            "text/plain": [
              "array([ 2,  4,  3,  1,  8,  6,  5,  7, 11,  9, 10, 16, 13])"
            ]
          },
          "execution_count": 79,
          "metadata": {},
          "output_type": "execute_result"
        }
      ],
      "source": [
        "data['bhk'].unique()"
      ]
    },
    {
      "cell_type": "code",
      "execution_count": 80,
      "metadata": {
        "colab": {
          "base_uri": "https://localhost:8080/",
          "height": 53
        },
        "id": "nHhz2JpjuorZ",
        "outputId": "708254af-8497-4de9-977f-f7c1c824c075"
      },
      "outputs": [
        {
          "data": {
            "text/html": [
              "<div>\n",
              "<style scoped>\n",
              "    .dataframe tbody tr th:only-of-type {\n",
              "        vertical-align: middle;\n",
              "    }\n",
              "\n",
              "    .dataframe tbody tr th {\n",
              "        vertical-align: top;\n",
              "    }\n",
              "\n",
              "    .dataframe thead th {\n",
              "        text-align: right;\n",
              "    }\n",
              "</style>\n",
              "<table border=\"1\" class=\"dataframe\">\n",
              "  <thead>\n",
              "    <tr style=\"text-align: right;\">\n",
              "      <th></th>\n",
              "      <th>location</th>\n",
              "      <th>total_sqft</th>\n",
              "      <th>bath</th>\n",
              "      <th>price</th>\n",
              "      <th>bhk</th>\n",
              "      <th>price_per_sqft</th>\n",
              "    </tr>\n",
              "  </thead>\n",
              "  <tbody>\n",
              "  </tbody>\n",
              "</table>\n",
              "</div>"
            ],
            "text/plain": [
              "Empty DataFrame\n",
              "Columns: [location, total_sqft, bath, price, bhk, price_per_sqft]\n",
              "Index: []"
            ]
          },
          "execution_count": 80,
          "metadata": {},
          "output_type": "execute_result"
        }
      ],
      "source": [
        "data[pd.isnull(data.total_sqft)]"
      ]
    },
    {
      "cell_type": "code",
      "execution_count": 81,
      "metadata": {
        "id": "AjMxFq67K6ss"
      },
      "outputs": [],
      "source": [
        "# outlier detection and removal\n"
      ]
    },
    {
      "cell_type": "code",
      "execution_count": 82,
      "metadata": {
        "colab": {
          "base_uri": "https://localhost:8080/",
          "height": 335
        },
        "id": "TeQfsWOfNG1m",
        "outputId": "09fe9674-df71-43d9-a5c1-6ce9459e181e"
      },
      "outputs": [
        {
          "data": {
            "text/plain": [
              "count     12529.000000\n",
              "mean       6304.053504\n",
              "std        4162.395819\n",
              "min         267.829813\n",
              "25%        4210.526316\n",
              "50%        5294.117647\n",
              "75%        6916.666667\n",
              "max      176470.588235\n",
              "Name: price_per_sqft, dtype: float64"
            ]
          },
          "execution_count": 82,
          "metadata": {},
          "output_type": "execute_result"
        }
      ],
      "source": [
        "data.price_per_sqft.describe()  # max too away from 75%"
      ]
    },
    {
      "cell_type": "code",
      "execution_count": 83,
      "metadata": {
        "colab": {
          "base_uri": "https://localhost:8080/",
          "height": 53
        },
        "id": "5Wgve2UDQjXm",
        "outputId": "70534dda-72d3-4e8b-d0b6-490115860868"
      },
      "outputs": [
        {
          "data": {
            "text/plain": [
              "'q1=4210.5\\nq3=6916.7\\niqr=q3-q1\\nx=q1-iqr*1.5\\ny=q3+iqr*1.5\\ndata=data[(data.price_per_sqft <=y) & ( data.price_per_sqft >=x)]\\ndata.price_per_sqft.describe()'"
            ]
          },
          "execution_count": 83,
          "metadata": {},
          "output_type": "execute_result"
        }
      ],
      "source": [
        "'''q1=4210.5\n",
        "q3=6916.7\n",
        "iqr=q3-q1\n",
        "x=q1-iqr*1.5\n",
        "y=q3+iqr*1.5\n",
        "data=data[(data.price_per_sqft <=y) & ( data.price_per_sqft >=x)]\n",
        "data.price_per_sqft.describe()'''"
      ]
    },
    {
      "cell_type": "code",
      "execution_count": 84,
      "metadata": {
        "colab": {
          "base_uri": "https://localhost:8080/"
        },
        "id": "8nMEIBkVpB0m",
        "outputId": "ba906eca-de50-4a1e-deb0-ba4bbff87041"
      },
      "outputs": [
        {
          "data": {
            "text/plain": [
              "(12529, 6)"
            ]
          },
          "execution_count": 84,
          "metadata": {},
          "output_type": "execute_result"
        }
      ],
      "source": [
        "data.shape"
      ]
    },
    {
      "cell_type": "code",
      "execution_count": 85,
      "metadata": {
        "colab": {
          "base_uri": "https://localhost:8080/",
          "height": 466
        },
        "id": "kkF9YDSxA0BN",
        "outputId": "9cd2f0e4-f24e-4627-9fe5-9d83925e76ec"
      },
      "outputs": [
        {
          "data": {
            "text/plain": [
              "Text(0, 0.5, 'Count')"
            ]
          },
          "execution_count": 85,
          "metadata": {},
          "output_type": "execute_result"
        },
        {
          "data": {
            "image/png": "[encoded data removed]",
            "text/plain": [
              "<Figure size 640x480 with 1 Axes>"
            ]
          },
          "metadata": {},
          "output_type": "display_data"
        }
      ],
      "source": [
        "plt.hist(df3.bath,rwidth=0.8)\n",
        "plt.xlabel(\"Number of bathrooms\")\n",
        "plt.ylabel(\"Count\")"
      ]
    },
    {
      "cell_type": "code",
      "execution_count": 86,
      "metadata": {
        "colab": {
          "base_uri": "https://localhost:8080/",
          "height": 206
        },
        "id": "3OLZ1IoWA328",
        "outputId": "e07072a7-a8ba-4950-b552-4033990a2db9"
      },
      "outputs": [
        {
          "data": {
            "text/html": [
              "<div>\n",
              "<style scoped>\n",
              "    .dataframe tbody tr th:only-of-type {\n",
              "        vertical-align: middle;\n",
              "    }\n",
              "\n",
              "    .dataframe tbody tr th {\n",
              "        vertical-align: top;\n",
              "    }\n",
              "\n",
              "    .dataframe thead th {\n",
              "        text-align: right;\n",
              "    }\n",
              "</style>\n",
              "<table border=\"1\" class=\"dataframe\">\n",
              "  <thead>\n",
              "    <tr style=\"text-align: right;\">\n",
              "      <th></th>\n",
              "      <th>location</th>\n",
              "      <th>total_sqft</th>\n",
              "      <th>bath</th>\n",
              "      <th>price</th>\n",
              "      <th>bhk</th>\n",
              "      <th>price_per_sqft</th>\n",
              "    </tr>\n",
              "  </thead>\n",
              "  <tbody>\n",
              "    <tr>\n",
              "      <th>5307</th>\n",
              "      <td>Neeladri Nagar</td>\n",
              "      <td>4000.0</td>\n",
              "      <td>12.0</td>\n",
              "      <td>160.0</td>\n",
              "      <td>10</td>\n",
              "      <td>4000.000000</td>\n",
              "    </tr>\n",
              "    <tr>\n",
              "      <th>8534</th>\n",
              "      <td>other</td>\n",
              "      <td>12000.0</td>\n",
              "      <td>12.0</td>\n",
              "      <td>525.0</td>\n",
              "      <td>10</td>\n",
              "      <td>4375.000000</td>\n",
              "    </tr>\n",
              "    <tr>\n",
              "      <th>8623</th>\n",
              "      <td>other</td>\n",
              "      <td>10000.0</td>\n",
              "      <td>16.0</td>\n",
              "      <td>550.0</td>\n",
              "      <td>16</td>\n",
              "      <td>5500.000000</td>\n",
              "    </tr>\n",
              "    <tr>\n",
              "      <th>9363</th>\n",
              "      <td>other</td>\n",
              "      <td>6000.0</td>\n",
              "      <td>12.0</td>\n",
              "      <td>150.0</td>\n",
              "      <td>11</td>\n",
              "      <td>2500.000000</td>\n",
              "    </tr>\n",
              "    <tr>\n",
              "      <th>9696</th>\n",
              "      <td>other</td>\n",
              "      <td>5425.0</td>\n",
              "      <td>13.0</td>\n",
              "      <td>275.0</td>\n",
              "      <td>13</td>\n",
              "      <td>5069.124424</td>\n",
              "    </tr>\n",
              "  </tbody>\n",
              "</table>\n",
              "</div>"
            ],
            "text/plain": [
              "            location  total_sqft  bath  price  bhk  price_per_sqft\n",
              "5307  Neeladri Nagar      4000.0  12.0  160.0   10     4000.000000\n",
              "8534           other     12000.0  12.0  525.0   10     4375.000000\n",
              "8623           other     10000.0  16.0  550.0   16     5500.000000\n",
              "9363           other      6000.0  12.0  150.0   11     2500.000000\n",
              "9696           other      5425.0  13.0  275.0   13     5069.124424"
            ]
          },
          "execution_count": 86,
          "metadata": {},
          "output_type": "execute_result"
        }
      ],
      "source": [
        "df3[df3.bath>10]   # it is unusual to have 2 more bathrooms than bedrooms"
      ]
    },
    {
      "cell_type": "code",
      "execution_count": 87,
      "metadata": {
        "colab": {
          "base_uri": "https://localhost:8080/"
        },
        "id": "4aCCXuayuWjK",
        "outputId": "a96e55d5-8e50-49c1-d479-2d021a56e9ad"
      },
      "outputs": [
        {
          "data": {
            "text/plain": [
              "(7282, 6)"
            ]
          },
          "execution_count": 87,
          "metadata": {},
          "output_type": "execute_result"
        }
      ],
      "source": [
        "df3=df3[df3.bath<df3.bhk +2]\n",
        "df3.shape"
      ]
    },
    {
      "cell_type": "code",
      "execution_count": 88,
      "metadata": {
        "colab": {
          "base_uri": "https://localhost:8080/"
        },
        "id": "ZbvxSHkjyE8o",
        "outputId": "9969339e-6ef2-4124-ac3b-3762b4238736"
      },
      "outputs": [],
      "source": [
        "df3.drop(['price_per_sqft'],axis=1,inplace=True) #droped price per sqft cause its not needed anymore"
      ]
    },
    {
      "cell_type": "code",
      "execution_count": 89,
      "metadata": {
        "colab": {
          "base_uri": "https://localhost:8080/",
          "height": 307
        },
        "id": "juE4UqFnyUGm",
        "outputId": "2772b937-99db-4f5b-fe9b-e7a6df36bdfb"
      },
      "outputs": [
        {
          "data": {
            "text/html": [
              "<div>\n",
              "<style scoped>\n",
              "    .dataframe tbody tr th:only-of-type {\n",
              "        vertical-align: middle;\n",
              "    }\n",
              "\n",
              "    .dataframe tbody tr th {\n",
              "        vertical-align: top;\n",
              "    }\n",
              "\n",
              "    .dataframe thead th {\n",
              "        text-align: right;\n",
              "    }\n",
              "</style>\n",
              "<table border=\"1\" class=\"dataframe\">\n",
              "  <thead>\n",
              "    <tr style=\"text-align: right;\">\n",
              "      <th></th>\n",
              "      <th>Devarachikkanahalli</th>\n",
              "      <th>1st Block Jayanagar</th>\n",
              "      <th>1st Phase JP Nagar</th>\n",
              "      <th>2nd Phase Judicial Layout</th>\n",
              "      <th>2nd Stage Nagarbhavi</th>\n",
              "      <th>5th Block Hbr Layout</th>\n",
              "      <th>5th Phase JP Nagar</th>\n",
              "      <th>6th Phase JP Nagar</th>\n",
              "      <th>7th Phase JP Nagar</th>\n",
              "      <th>8th Phase JP Nagar</th>\n",
              "      <th>...</th>\n",
              "      <th>Vishveshwarya Layout</th>\n",
              "      <th>Vishwapriya Layout</th>\n",
              "      <th>Vittasandra</th>\n",
              "      <th>Whitefield</th>\n",
              "      <th>Yelachenahalli</th>\n",
              "      <th>Yelahanka</th>\n",
              "      <th>Yelahanka New Town</th>\n",
              "      <th>Yelenahalli</th>\n",
              "      <th>Yeshwanthpur</th>\n",
              "      <th>other</th>\n",
              "    </tr>\n",
              "  </thead>\n",
              "  <tbody>\n",
              "    <tr>\n",
              "      <th>1</th>\n",
              "      <td>1</td>\n",
              "      <td>0</td>\n",
              "      <td>0</td>\n",
              "      <td>0</td>\n",
              "      <td>0</td>\n",
              "      <td>0</td>\n",
              "      <td>0</td>\n",
              "      <td>0</td>\n",
              "      <td>0</td>\n",
              "      <td>0</td>\n",
              "      <td>...</td>\n",
              "      <td>0</td>\n",
              "      <td>0</td>\n",
              "      <td>0</td>\n",
              "      <td>0</td>\n",
              "      <td>0</td>\n",
              "      <td>0</td>\n",
              "      <td>0</td>\n",
              "      <td>0</td>\n",
              "      <td>0</td>\n",
              "      <td>0</td>\n",
              "    </tr>\n",
              "    <tr>\n",
              "      <th>2</th>\n",
              "      <td>1</td>\n",
              "      <td>0</td>\n",
              "      <td>0</td>\n",
              "      <td>0</td>\n",
              "      <td>0</td>\n",
              "      <td>0</td>\n",
              "      <td>0</td>\n",
              "      <td>0</td>\n",
              "      <td>0</td>\n",
              "      <td>0</td>\n",
              "      <td>...</td>\n",
              "      <td>0</td>\n",
              "      <td>0</td>\n",
              "      <td>0</td>\n",
              "      <td>0</td>\n",
              "      <td>0</td>\n",
              "      <td>0</td>\n",
              "      <td>0</td>\n",
              "      <td>0</td>\n",
              "      <td>0</td>\n",
              "      <td>0</td>\n",
              "    </tr>\n",
              "    <tr>\n",
              "      <th>3</th>\n",
              "      <td>1</td>\n",
              "      <td>0</td>\n",
              "      <td>0</td>\n",
              "      <td>0</td>\n",
              "      <td>0</td>\n",
              "      <td>0</td>\n",
              "      <td>0</td>\n",
              "      <td>0</td>\n",
              "      <td>0</td>\n",
              "      <td>0</td>\n",
              "      <td>...</td>\n",
              "      <td>0</td>\n",
              "      <td>0</td>\n",
              "      <td>0</td>\n",
              "      <td>0</td>\n",
              "      <td>0</td>\n",
              "      <td>0</td>\n",
              "      <td>0</td>\n",
              "      <td>0</td>\n",
              "      <td>0</td>\n",
              "      <td>0</td>\n",
              "    </tr>\n",
              "    <tr>\n",
              "      <th>4</th>\n",
              "      <td>1</td>\n",
              "      <td>0</td>\n",
              "      <td>0</td>\n",
              "      <td>0</td>\n",
              "      <td>0</td>\n",
              "      <td>0</td>\n",
              "      <td>0</td>\n",
              "      <td>0</td>\n",
              "      <td>0</td>\n",
              "      <td>0</td>\n",
              "      <td>...</td>\n",
              "      <td>0</td>\n",
              "      <td>0</td>\n",
              "      <td>0</td>\n",
              "      <td>0</td>\n",
              "      <td>0</td>\n",
              "      <td>0</td>\n",
              "      <td>0</td>\n",
              "      <td>0</td>\n",
              "      <td>0</td>\n",
              "      <td>0</td>\n",
              "    </tr>\n",
              "    <tr>\n",
              "      <th>5</th>\n",
              "      <td>1</td>\n",
              "      <td>0</td>\n",
              "      <td>0</td>\n",
              "      <td>0</td>\n",
              "      <td>0</td>\n",
              "      <td>0</td>\n",
              "      <td>0</td>\n",
              "      <td>0</td>\n",
              "      <td>0</td>\n",
              "      <td>0</td>\n",
              "      <td>...</td>\n",
              "      <td>0</td>\n",
              "      <td>0</td>\n",
              "      <td>0</td>\n",
              "      <td>0</td>\n",
              "      <td>0</td>\n",
              "      <td>0</td>\n",
              "      <td>0</td>\n",
              "      <td>0</td>\n",
              "      <td>0</td>\n",
              "      <td>0</td>\n",
              "    </tr>\n",
              "  </tbody>\n",
              "</table>\n",
              "<p>5 rows × 241 columns</p>\n",
              "</div>"
            ],
            "text/plain": [
              "    Devarachikkanahalli  1st Block Jayanagar  1st Phase JP Nagar  \\\n",
              "1                     1                    0                   0   \n",
              "2                     1                    0                   0   \n",
              "3                     1                    0                   0   \n",
              "4                     1                    0                   0   \n",
              "5                     1                    0                   0   \n",
              "\n",
              "   2nd Phase Judicial Layout  2nd Stage Nagarbhavi  5th Block Hbr Layout  \\\n",
              "1                          0                     0                     0   \n",
              "2                          0                     0                     0   \n",
              "3                          0                     0                     0   \n",
              "4                          0                     0                     0   \n",
              "5                          0                     0                     0   \n",
              "\n",
              "   5th Phase JP Nagar  6th Phase JP Nagar  7th Phase JP Nagar  \\\n",
              "1                   0                   0                   0   \n",
              "2                   0                   0                   0   \n",
              "3                   0                   0                   0   \n",
              "4                   0                   0                   0   \n",
              "5                   0                   0                   0   \n",
              "\n",
              "   8th Phase JP Nagar  ...  Vishveshwarya Layout  Vishwapriya Layout  \\\n",
              "1                   0  ...                     0                   0   \n",
              "2                   0  ...                     0                   0   \n",
              "3                   0  ...                     0                   0   \n",
              "4                   0  ...                     0                   0   \n",
              "5                   0  ...                     0                   0   \n",
              "\n",
              "   Vittasandra  Whitefield  Yelachenahalli  Yelahanka  Yelahanka New Town  \\\n",
              "1            0           0               0          0                   0   \n",
              "2            0           0               0          0                   0   \n",
              "3            0           0               0          0                   0   \n",
              "4            0           0               0          0                   0   \n",
              "5            0           0               0          0                   0   \n",
              "\n",
              "   Yelenahalli  Yeshwanthpur  other  \n",
              "1            0             0      0  \n",
              "2            0             0      0  \n",
              "3            0             0      0  \n",
              "4            0             0      0  \n",
              "5            0             0      0  \n",
              "\n",
              "[5 rows x 241 columns]"
            ]
          },
          "execution_count": 89,
          "metadata": {},
          "output_type": "execute_result"
        }
      ],
      "source": [
        "# Model Building\n",
        "dummies=pd.get_dummies(df3.location,dtype=np.int8)\n",
        "dummies.head()"
      ]
    },
    {
      "cell_type": "code",
      "execution_count": 90,
      "metadata": {
        "id": "QtbUd8zGyxdc"
      },
      "outputs": [],
      "source": [
        "df3=pd.concat([df3,dummies.drop(['other'],axis=1)],axis=1)"
      ]
    },
    {
      "cell_type": "code",
      "execution_count": 91,
      "metadata": {
        "colab": {
          "base_uri": "https://localhost:8080/",
          "height": 307
        },
        "id": "QC5nPM_5z4Xn",
        "outputId": "968348ed-9ed0-48d1-8753-918870038587"
      },
      "outputs": [
        {
          "data": {
            "text/html": [
              "<div>\n",
              "<style scoped>\n",
              "    .dataframe tbody tr th:only-of-type {\n",
              "        vertical-align: middle;\n",
              "    }\n",
              "\n",
              "    .dataframe tbody tr th {\n",
              "        vertical-align: top;\n",
              "    }\n",
              "\n",
              "    .dataframe thead th {\n",
              "        text-align: right;\n",
              "    }\n",
              "</style>\n",
              "<table border=\"1\" class=\"dataframe\">\n",
              "  <thead>\n",
              "    <tr style=\"text-align: right;\">\n",
              "      <th></th>\n",
              "      <th>location</th>\n",
              "      <th>total_sqft</th>\n",
              "      <th>bath</th>\n",
              "      <th>price</th>\n",
              "      <th>bhk</th>\n",
              "      <th>Devarachikkanahalli</th>\n",
              "      <th>1st Block Jayanagar</th>\n",
              "      <th>1st Phase JP Nagar</th>\n",
              "      <th>2nd Phase Judicial Layout</th>\n",
              "      <th>2nd Stage Nagarbhavi</th>\n",
              "      <th>...</th>\n",
              "      <th>Vijayanagar</th>\n",
              "      <th>Vishveshwarya Layout</th>\n",
              "      <th>Vishwapriya Layout</th>\n",
              "      <th>Vittasandra</th>\n",
              "      <th>Whitefield</th>\n",
              "      <th>Yelachenahalli</th>\n",
              "      <th>Yelahanka</th>\n",
              "      <th>Yelahanka New Town</th>\n",
              "      <th>Yelenahalli</th>\n",
              "      <th>Yeshwanthpur</th>\n",
              "    </tr>\n",
              "  </thead>\n",
              "  <tbody>\n",
              "    <tr>\n",
              "      <th>1</th>\n",
              "      <td>Devarachikkanahalli</td>\n",
              "      <td>1250.0</td>\n",
              "      <td>2.0</td>\n",
              "      <td>40.0</td>\n",
              "      <td>2</td>\n",
              "      <td>1</td>\n",
              "      <td>0</td>\n",
              "      <td>0</td>\n",
              "      <td>0</td>\n",
              "      <td>0</td>\n",
              "      <td>...</td>\n",
              "      <td>0</td>\n",
              "      <td>0</td>\n",
              "      <td>0</td>\n",
              "      <td>0</td>\n",
              "      <td>0</td>\n",
              "      <td>0</td>\n",
              "      <td>0</td>\n",
              "      <td>0</td>\n",
              "      <td>0</td>\n",
              "      <td>0</td>\n",
              "    </tr>\n",
              "    <tr>\n",
              "      <th>2</th>\n",
              "      <td>Devarachikkanahalli</td>\n",
              "      <td>1200.0</td>\n",
              "      <td>2.0</td>\n",
              "      <td>83.0</td>\n",
              "      <td>2</td>\n",
              "      <td>1</td>\n",
              "      <td>0</td>\n",
              "      <td>0</td>\n",
              "      <td>0</td>\n",
              "      <td>0</td>\n",
              "      <td>...</td>\n",
              "      <td>0</td>\n",
              "      <td>0</td>\n",
              "      <td>0</td>\n",
              "      <td>0</td>\n",
              "      <td>0</td>\n",
              "      <td>0</td>\n",
              "      <td>0</td>\n",
              "      <td>0</td>\n",
              "      <td>0</td>\n",
              "      <td>0</td>\n",
              "    </tr>\n",
              "    <tr>\n",
              "      <th>3</th>\n",
              "      <td>Devarachikkanahalli</td>\n",
              "      <td>1170.0</td>\n",
              "      <td>2.0</td>\n",
              "      <td>40.0</td>\n",
              "      <td>2</td>\n",
              "      <td>1</td>\n",
              "      <td>0</td>\n",
              "      <td>0</td>\n",
              "      <td>0</td>\n",
              "      <td>0</td>\n",
              "      <td>...</td>\n",
              "      <td>0</td>\n",
              "      <td>0</td>\n",
              "      <td>0</td>\n",
              "      <td>0</td>\n",
              "      <td>0</td>\n",
              "      <td>0</td>\n",
              "      <td>0</td>\n",
              "      <td>0</td>\n",
              "      <td>0</td>\n",
              "      <td>0</td>\n",
              "    </tr>\n",
              "    <tr>\n",
              "      <th>4</th>\n",
              "      <td>Devarachikkanahalli</td>\n",
              "      <td>1425.0</td>\n",
              "      <td>2.0</td>\n",
              "      <td>65.0</td>\n",
              "      <td>3</td>\n",
              "      <td>1</td>\n",
              "      <td>0</td>\n",
              "      <td>0</td>\n",
              "      <td>0</td>\n",
              "      <td>0</td>\n",
              "      <td>...</td>\n",
              "      <td>0</td>\n",
              "      <td>0</td>\n",
              "      <td>0</td>\n",
              "      <td>0</td>\n",
              "      <td>0</td>\n",
              "      <td>0</td>\n",
              "      <td>0</td>\n",
              "      <td>0</td>\n",
              "      <td>0</td>\n",
              "      <td>0</td>\n",
              "    </tr>\n",
              "    <tr>\n",
              "      <th>5</th>\n",
              "      <td>Devarachikkanahalli</td>\n",
              "      <td>947.0</td>\n",
              "      <td>2.0</td>\n",
              "      <td>43.0</td>\n",
              "      <td>2</td>\n",
              "      <td>1</td>\n",
              "      <td>0</td>\n",
              "      <td>0</td>\n",
              "      <td>0</td>\n",
              "      <td>0</td>\n",
              "      <td>...</td>\n",
              "      <td>0</td>\n",
              "      <td>0</td>\n",
              "      <td>0</td>\n",
              "      <td>0</td>\n",
              "      <td>0</td>\n",
              "      <td>0</td>\n",
              "      <td>0</td>\n",
              "      <td>0</td>\n",
              "      <td>0</td>\n",
              "      <td>0</td>\n",
              "    </tr>\n",
              "  </tbody>\n",
              "</table>\n",
              "<p>5 rows × 245 columns</p>\n",
              "</div>"
            ],
            "text/plain": [
              "               location  total_sqft  bath  price  bhk   Devarachikkanahalli  \\\n",
              "1   Devarachikkanahalli      1250.0   2.0   40.0    2                     1   \n",
              "2   Devarachikkanahalli      1200.0   2.0   83.0    2                     1   \n",
              "3   Devarachikkanahalli      1170.0   2.0   40.0    2                     1   \n",
              "4   Devarachikkanahalli      1425.0   2.0   65.0    3                     1   \n",
              "5   Devarachikkanahalli       947.0   2.0   43.0    2                     1   \n",
              "\n",
              "   1st Block Jayanagar  1st Phase JP Nagar  2nd Phase Judicial Layout  \\\n",
              "1                    0                   0                          0   \n",
              "2                    0                   0                          0   \n",
              "3                    0                   0                          0   \n",
              "4                    0                   0                          0   \n",
              "5                    0                   0                          0   \n",
              "\n",
              "   2nd Stage Nagarbhavi  ...  Vijayanagar  Vishveshwarya Layout  \\\n",
              "1                     0  ...            0                     0   \n",
              "2                     0  ...            0                     0   \n",
              "3                     0  ...            0                     0   \n",
              "4                     0  ...            0                     0   \n",
              "5                     0  ...            0                     0   \n",
              "\n",
              "   Vishwapriya Layout  Vittasandra  Whitefield  Yelachenahalli  Yelahanka  \\\n",
              "1                   0            0           0               0          0   \n",
              "2                   0            0           0               0          0   \n",
              "3                   0            0           0               0          0   \n",
              "4                   0            0           0               0          0   \n",
              "5                   0            0           0               0          0   \n",
              "\n",
              "   Yelahanka New Town  Yelenahalli  Yeshwanthpur  \n",
              "1                   0            0             0  \n",
              "2                   0            0             0  \n",
              "3                   0            0             0  \n",
              "4                   0            0             0  \n",
              "5                   0            0             0  \n",
              "\n",
              "[5 rows x 245 columns]"
            ]
          },
          "execution_count": 91,
          "metadata": {},
          "output_type": "execute_result"
        }
      ],
      "source": [
        "df3.head()"
      ]
    },
    {
      "cell_type": "code",
      "execution_count": 92,
      "metadata": {
        "id": "KjfCEGrWMput"
      },
      "outputs": [],
      "source": [
        "df3.location=df3.location.astype(str)\n",
        "df3.location=df3.location.str.strip()\n",
        "df3.columns=df3.columns.str.strip()"
      ]
    },
    {
      "cell_type": "code",
      "execution_count": 93,
      "metadata": {
        "colab": {
          "base_uri": "https://localhost:8080/",
          "height": 307
        },
        "id": "-uA8RfVOL-AC",
        "outputId": "c029068b-8a03-4977-ace6-cf96cf2caefb"
      },
      "outputs": [
        {
          "data": {
            "text/html": [
              "<div>\n",
              "<style scoped>\n",
              "    .dataframe tbody tr th:only-of-type {\n",
              "        vertical-align: middle;\n",
              "    }\n",
              "\n",
              "    .dataframe tbody tr th {\n",
              "        vertical-align: top;\n",
              "    }\n",
              "\n",
              "    .dataframe thead th {\n",
              "        text-align: right;\n",
              "    }\n",
              "</style>\n",
              "<table border=\"1\" class=\"dataframe\">\n",
              "  <thead>\n",
              "    <tr style=\"text-align: right;\">\n",
              "      <th></th>\n",
              "      <th>location</th>\n",
              "      <th>total_sqft</th>\n",
              "      <th>bath</th>\n",
              "      <th>price</th>\n",
              "      <th>bhk</th>\n",
              "      <th>Devarachikkanahalli</th>\n",
              "      <th>1st Block Jayanagar</th>\n",
              "      <th>1st Phase JP Nagar</th>\n",
              "      <th>2nd Phase Judicial Layout</th>\n",
              "      <th>2nd Stage Nagarbhavi</th>\n",
              "      <th>...</th>\n",
              "      <th>Vijayanagar</th>\n",
              "      <th>Vishveshwarya Layout</th>\n",
              "      <th>Vishwapriya Layout</th>\n",
              "      <th>Vittasandra</th>\n",
              "      <th>Whitefield</th>\n",
              "      <th>Yelachenahalli</th>\n",
              "      <th>Yelahanka</th>\n",
              "      <th>Yelahanka New Town</th>\n",
              "      <th>Yelenahalli</th>\n",
              "      <th>Yeshwanthpur</th>\n",
              "    </tr>\n",
              "  </thead>\n",
              "  <tbody>\n",
              "    <tr>\n",
              "      <th>1</th>\n",
              "      <td>Devarachikkanahalli</td>\n",
              "      <td>1250.0</td>\n",
              "      <td>2.0</td>\n",
              "      <td>40.0</td>\n",
              "      <td>2</td>\n",
              "      <td>1</td>\n",
              "      <td>0</td>\n",
              "      <td>0</td>\n",
              "      <td>0</td>\n",
              "      <td>0</td>\n",
              "      <td>...</td>\n",
              "      <td>0</td>\n",
              "      <td>0</td>\n",
              "      <td>0</td>\n",
              "      <td>0</td>\n",
              "      <td>0</td>\n",
              "      <td>0</td>\n",
              "      <td>0</td>\n",
              "      <td>0</td>\n",
              "      <td>0</td>\n",
              "      <td>0</td>\n",
              "    </tr>\n",
              "    <tr>\n",
              "      <th>2</th>\n",
              "      <td>Devarachikkanahalli</td>\n",
              "      <td>1200.0</td>\n",
              "      <td>2.0</td>\n",
              "      <td>83.0</td>\n",
              "      <td>2</td>\n",
              "      <td>1</td>\n",
              "      <td>0</td>\n",
              "      <td>0</td>\n",
              "      <td>0</td>\n",
              "      <td>0</td>\n",
              "      <td>...</td>\n",
              "      <td>0</td>\n",
              "      <td>0</td>\n",
              "      <td>0</td>\n",
              "      <td>0</td>\n",
              "      <td>0</td>\n",
              "      <td>0</td>\n",
              "      <td>0</td>\n",
              "      <td>0</td>\n",
              "      <td>0</td>\n",
              "      <td>0</td>\n",
              "    </tr>\n",
              "    <tr>\n",
              "      <th>3</th>\n",
              "      <td>Devarachikkanahalli</td>\n",
              "      <td>1170.0</td>\n",
              "      <td>2.0</td>\n",
              "      <td>40.0</td>\n",
              "      <td>2</td>\n",
              "      <td>1</td>\n",
              "      <td>0</td>\n",
              "      <td>0</td>\n",
              "      <td>0</td>\n",
              "      <td>0</td>\n",
              "      <td>...</td>\n",
              "      <td>0</td>\n",
              "      <td>0</td>\n",
              "      <td>0</td>\n",
              "      <td>0</td>\n",
              "      <td>0</td>\n",
              "      <td>0</td>\n",
              "      <td>0</td>\n",
              "      <td>0</td>\n",
              "      <td>0</td>\n",
              "      <td>0</td>\n",
              "    </tr>\n",
              "    <tr>\n",
              "      <th>4</th>\n",
              "      <td>Devarachikkanahalli</td>\n",
              "      <td>1425.0</td>\n",
              "      <td>2.0</td>\n",
              "      <td>65.0</td>\n",
              "      <td>3</td>\n",
              "      <td>1</td>\n",
              "      <td>0</td>\n",
              "      <td>0</td>\n",
              "      <td>0</td>\n",
              "      <td>0</td>\n",
              "      <td>...</td>\n",
              "      <td>0</td>\n",
              "      <td>0</td>\n",
              "      <td>0</td>\n",
              "      <td>0</td>\n",
              "      <td>0</td>\n",
              "      <td>0</td>\n",
              "      <td>0</td>\n",
              "      <td>0</td>\n",
              "      <td>0</td>\n",
              "      <td>0</td>\n",
              "    </tr>\n",
              "    <tr>\n",
              "      <th>5</th>\n",
              "      <td>Devarachikkanahalli</td>\n",
              "      <td>947.0</td>\n",
              "      <td>2.0</td>\n",
              "      <td>43.0</td>\n",
              "      <td>2</td>\n",
              "      <td>1</td>\n",
              "      <td>0</td>\n",
              "      <td>0</td>\n",
              "      <td>0</td>\n",
              "      <td>0</td>\n",
              "      <td>...</td>\n",
              "      <td>0</td>\n",
              "      <td>0</td>\n",
              "      <td>0</td>\n",
              "      <td>0</td>\n",
              "      <td>0</td>\n",
              "      <td>0</td>\n",
              "      <td>0</td>\n",
              "      <td>0</td>\n",
              "      <td>0</td>\n",
              "      <td>0</td>\n",
              "    </tr>\n",
              "  </tbody>\n",
              "</table>\n",
              "<p>5 rows × 245 columns</p>\n",
              "</div>"
            ],
            "text/plain": [
              "              location  total_sqft  bath  price  bhk  Devarachikkanahalli  \\\n",
              "1  Devarachikkanahalli      1250.0   2.0   40.0    2                    1   \n",
              "2  Devarachikkanahalli      1200.0   2.0   83.0    2                    1   \n",
              "3  Devarachikkanahalli      1170.0   2.0   40.0    2                    1   \n",
              "4  Devarachikkanahalli      1425.0   2.0   65.0    3                    1   \n",
              "5  Devarachikkanahalli       947.0   2.0   43.0    2                    1   \n",
              "\n",
              "   1st Block Jayanagar  1st Phase JP Nagar  2nd Phase Judicial Layout  \\\n",
              "1                    0                   0                          0   \n",
              "2                    0                   0                          0   \n",
              "3                    0                   0                          0   \n",
              "4                    0                   0                          0   \n",
              "5                    0                   0                          0   \n",
              "\n",
              "   2nd Stage Nagarbhavi  ...  Vijayanagar  Vishveshwarya Layout  \\\n",
              "1                     0  ...            0                     0   \n",
              "2                     0  ...            0                     0   \n",
              "3                     0  ...            0                     0   \n",
              "4                     0  ...            0                     0   \n",
              "5                     0  ...            0                     0   \n",
              "\n",
              "   Vishwapriya Layout  Vittasandra  Whitefield  Yelachenahalli  Yelahanka  \\\n",
              "1                   0            0           0               0          0   \n",
              "2                   0            0           0               0          0   \n",
              "3                   0            0           0               0          0   \n",
              "4                   0            0           0               0          0   \n",
              "5                   0            0           0               0          0   \n",
              "\n",
              "   Yelahanka New Town  Yelenahalli  Yeshwanthpur  \n",
              "1                   0            0             0  \n",
              "2                   0            0             0  \n",
              "3                   0            0             0  \n",
              "4                   0            0             0  \n",
              "5                   0            0             0  \n",
              "\n",
              "[5 rows x 245 columns]"
            ]
          },
          "execution_count": 93,
          "metadata": {},
          "output_type": "execute_result"
        }
      ],
      "source": [
        "df3[df3.location=='Devarachikkanahalli'].head()"
      ]
    },
    {
      "cell_type": "code",
      "execution_count": 94,
      "metadata": {},
      "outputs": [
        {
          "data": {
            "text/plain": [
              "(7282, 245)"
            ]
          },
          "execution_count": 94,
          "metadata": {},
          "output_type": "execute_result"
        }
      ],
      "source": [
        "df3.shape"
      ]
    },
    {
      "cell_type": "code",
      "execution_count": 95,
      "metadata": {
        "colab": {
          "base_uri": "https://localhost:8080/",
          "height": 307
        },
        "id": "S6wd1sTmz6aq",
        "outputId": "89deff61-4fb6-4ae0-c54f-25767029b966"
      },
      "outputs": [
        {
          "data": {
            "text/html": [
              "<div>\n",
              "<style scoped>\n",
              "    .dataframe tbody tr th:only-of-type {\n",
              "        vertical-align: middle;\n",
              "    }\n",
              "\n",
              "    .dataframe tbody tr th {\n",
              "        vertical-align: top;\n",
              "    }\n",
              "\n",
              "    .dataframe thead th {\n",
              "        text-align: right;\n",
              "    }\n",
              "</style>\n",
              "<table border=\"1\" class=\"dataframe\">\n",
              "  <thead>\n",
              "    <tr style=\"text-align: right;\">\n",
              "      <th></th>\n",
              "      <th>total_sqft</th>\n",
              "      <th>bath</th>\n",
              "      <th>bhk</th>\n",
              "      <th>Devarachikkanahalli</th>\n",
              "      <th>1st Block Jayanagar</th>\n",
              "      <th>1st Phase JP Nagar</th>\n",
              "      <th>2nd Phase Judicial Layout</th>\n",
              "      <th>2nd Stage Nagarbhavi</th>\n",
              "      <th>5th Block Hbr Layout</th>\n",
              "      <th>5th Phase JP Nagar</th>\n",
              "      <th>...</th>\n",
              "      <th>Vijayanagar</th>\n",
              "      <th>Vishveshwarya Layout</th>\n",
              "      <th>Vishwapriya Layout</th>\n",
              "      <th>Vittasandra</th>\n",
              "      <th>Whitefield</th>\n",
              "      <th>Yelachenahalli</th>\n",
              "      <th>Yelahanka</th>\n",
              "      <th>Yelahanka New Town</th>\n",
              "      <th>Yelenahalli</th>\n",
              "      <th>Yeshwanthpur</th>\n",
              "    </tr>\n",
              "  </thead>\n",
              "  <tbody>\n",
              "    <tr>\n",
              "      <th>1</th>\n",
              "      <td>1250.0</td>\n",
              "      <td>2.0</td>\n",
              "      <td>2</td>\n",
              "      <td>1</td>\n",
              "      <td>0</td>\n",
              "      <td>0</td>\n",
              "      <td>0</td>\n",
              "      <td>0</td>\n",
              "      <td>0</td>\n",
              "      <td>0</td>\n",
              "      <td>...</td>\n",
              "      <td>0</td>\n",
              "      <td>0</td>\n",
              "      <td>0</td>\n",
              "      <td>0</td>\n",
              "      <td>0</td>\n",
              "      <td>0</td>\n",
              "      <td>0</td>\n",
              "      <td>0</td>\n",
              "      <td>0</td>\n",
              "      <td>0</td>\n",
              "    </tr>\n",
              "    <tr>\n",
              "      <th>2</th>\n",
              "      <td>1200.0</td>\n",
              "      <td>2.0</td>\n",
              "      <td>2</td>\n",
              "      <td>1</td>\n",
              "      <td>0</td>\n",
              "      <td>0</td>\n",
              "      <td>0</td>\n",
              "      <td>0</td>\n",
              "      <td>0</td>\n",
              "      <td>0</td>\n",
              "      <td>...</td>\n",
              "      <td>0</td>\n",
              "      <td>0</td>\n",
              "      <td>0</td>\n",
              "      <td>0</td>\n",
              "      <td>0</td>\n",
              "      <td>0</td>\n",
              "      <td>0</td>\n",
              "      <td>0</td>\n",
              "      <td>0</td>\n",
              "      <td>0</td>\n",
              "    </tr>\n",
              "    <tr>\n",
              "      <th>3</th>\n",
              "      <td>1170.0</td>\n",
              "      <td>2.0</td>\n",
              "      <td>2</td>\n",
              "      <td>1</td>\n",
              "      <td>0</td>\n",
              "      <td>0</td>\n",
              "      <td>0</td>\n",
              "      <td>0</td>\n",
              "      <td>0</td>\n",
              "      <td>0</td>\n",
              "      <td>...</td>\n",
              "      <td>0</td>\n",
              "      <td>0</td>\n",
              "      <td>0</td>\n",
              "      <td>0</td>\n",
              "      <td>0</td>\n",
              "      <td>0</td>\n",
              "      <td>0</td>\n",
              "      <td>0</td>\n",
              "      <td>0</td>\n",
              "      <td>0</td>\n",
              "    </tr>\n",
              "    <tr>\n",
              "      <th>4</th>\n",
              "      <td>1425.0</td>\n",
              "      <td>2.0</td>\n",
              "      <td>3</td>\n",
              "      <td>1</td>\n",
              "      <td>0</td>\n",
              "      <td>0</td>\n",
              "      <td>0</td>\n",
              "      <td>0</td>\n",
              "      <td>0</td>\n",
              "      <td>0</td>\n",
              "      <td>...</td>\n",
              "      <td>0</td>\n",
              "      <td>0</td>\n",
              "      <td>0</td>\n",
              "      <td>0</td>\n",
              "      <td>0</td>\n",
              "      <td>0</td>\n",
              "      <td>0</td>\n",
              "      <td>0</td>\n",
              "      <td>0</td>\n",
              "      <td>0</td>\n",
              "    </tr>\n",
              "    <tr>\n",
              "      <th>5</th>\n",
              "      <td>947.0</td>\n",
              "      <td>2.0</td>\n",
              "      <td>2</td>\n",
              "      <td>1</td>\n",
              "      <td>0</td>\n",
              "      <td>0</td>\n",
              "      <td>0</td>\n",
              "      <td>0</td>\n",
              "      <td>0</td>\n",
              "      <td>0</td>\n",
              "      <td>...</td>\n",
              "      <td>0</td>\n",
              "      <td>0</td>\n",
              "      <td>0</td>\n",
              "      <td>0</td>\n",
              "      <td>0</td>\n",
              "      <td>0</td>\n",
              "      <td>0</td>\n",
              "      <td>0</td>\n",
              "      <td>0</td>\n",
              "      <td>0</td>\n",
              "    </tr>\n",
              "  </tbody>\n",
              "</table>\n",
              "<p>5 rows × 243 columns</p>\n",
              "</div>"
            ],
            "text/plain": [
              "   total_sqft  bath  bhk  Devarachikkanahalli  1st Block Jayanagar  \\\n",
              "1      1250.0   2.0    2                    1                    0   \n",
              "2      1200.0   2.0    2                    1                    0   \n",
              "3      1170.0   2.0    2                    1                    0   \n",
              "4      1425.0   2.0    3                    1                    0   \n",
              "5       947.0   2.0    2                    1                    0   \n",
              "\n",
              "   1st Phase JP Nagar  2nd Phase Judicial Layout  2nd Stage Nagarbhavi  \\\n",
              "1                   0                          0                     0   \n",
              "2                   0                          0                     0   \n",
              "3                   0                          0                     0   \n",
              "4                   0                          0                     0   \n",
              "5                   0                          0                     0   \n",
              "\n",
              "   5th Block Hbr Layout  5th Phase JP Nagar  ...  Vijayanagar  \\\n",
              "1                     0                   0  ...            0   \n",
              "2                     0                   0  ...            0   \n",
              "3                     0                   0  ...            0   \n",
              "4                     0                   0  ...            0   \n",
              "5                     0                   0  ...            0   \n",
              "\n",
              "   Vishveshwarya Layout  Vishwapriya Layout  Vittasandra  Whitefield  \\\n",
              "1                     0                   0            0           0   \n",
              "2                     0                   0            0           0   \n",
              "3                     0                   0            0           0   \n",
              "4                     0                   0            0           0   \n",
              "5                     0                   0            0           0   \n",
              "\n",
              "   Yelachenahalli  Yelahanka  Yelahanka New Town  Yelenahalli  Yeshwanthpur  \n",
              "1               0          0                   0            0             0  \n",
              "2               0          0                   0            0             0  \n",
              "3               0          0                   0            0             0  \n",
              "4               0          0                   0            0             0  \n",
              "5               0          0                   0            0             0  \n",
              "\n",
              "[5 rows x 243 columns]"
            ]
          },
          "execution_count": 95,
          "metadata": {},
          "output_type": "execute_result"
        }
      ],
      "source": [
        "x=df3.drop(['price','location'],axis=1)\n",
        "y=df3.price\n",
        "x.head()"
      ]
    },
    {
      "cell_type": "code",
      "execution_count": 108,
      "metadata": {
        "id": "3oGgHnQc0kRc"
      },
      "outputs": [],
      "source": [
        "from sklearn.model_selection import train_test_split\n",
        "xtrain,xtest,ytrain,ytest=train_test_split(x,y,train_size=0.8,random_state=643,shuffle=True)  # shuffle needs to be true as we had\n",
        "# we had data grouped by location and by default Kfold or train test split these split without shuffling.\n",
        "# OR USE shuffled_df = df.sample(frac=1, random_state=0).reset_index(drop=True) TO SHUFFLE DF BEFORE X Y INIT"
      ]
    },
    {
      "cell_type": "code",
      "execution_count": 104,
      "metadata": {},
      "outputs": [],
      "source": [
        "score=0\n",
        "state=0\n",
        "for i in range(0,1000):\n",
        "    xtrain,xtest,ytrain,ytest=train_test_split(x,y,train_size=0.8,random_state=i,shuffle=True)\n",
        "    lr=LinearRegression()\n",
        "    lr.fit(xtrain,ytrain)\n",
        "    if score<lr.score(xtest,ytest):\n",
        "        score=lr.score(xtest,ytest)\n",
        "        state=i\n"
      ]
    },
    {
      "cell_type": "code",
      "execution_count": 105,
      "metadata": {},
      "outputs": [
        {
          "name": "stdout",
          "output_type": "stream",
          "text": [
            "643 \n",
            " 0.9052545350840538\n"
          ]
        }
      ],
      "source": [
        "print(state,\"\\n\",score)"
      ]
    },
    {
      "cell_type": "code",
      "execution_count": 109,
      "metadata": {
        "colab": {
          "base_uri": "https://localhost:8080/"
        },
        "id": "6DA7jOqZ1SKB",
        "outputId": "e821b4df-d562-4cd9-9dba-25cee54ed583"
      },
      "outputs": [
        {
          "data": {
            "text/plain": [
              "0.9052545350840538"
            ]
          },
          "execution_count": 109,
          "metadata": {},
          "output_type": "execute_result"
        }
      ],
      "source": [
        "from sklearn.linear_model import LinearRegression  # data is continous not categorical(rank)(nominal or ordinal)\n",
        "lr=LinearRegression()\n",
        "lr.fit(xtrain,ytrain)\n",
        "pred=lr.predict(xtest)\n",
        "lr.score(xtest,ytest)"
      ]
    },
    {
      "cell_type": "code",
      "execution_count": 110,
      "metadata": {
        "colab": {
          "base_uri": "https://localhost:8080/"
        },
        "id": "AyuXbaof1ohY",
        "outputId": "4370144d-3459-433a-a2a5-c1fac58113e3"
      },
      "outputs": [
        {
          "data": {
            "text/plain": [
              "0.9085888758293169"
            ]
          },
          "execution_count": 110,
          "metadata": {},
          "output_type": "execute_result"
        }
      ],
      "source": [
        "from sklearn.metrics import r2_score\n",
        "score=r2_score(pred,ytest)\n",
        "score"
      ]
    },
    {
      "cell_type": "code",
      "execution_count": 111,
      "metadata": {
        "colab": {
          "base_uri": "https://localhost:8080/"
        },
        "id": "b6yOe6Iq3UC9",
        "outputId": "94fce905-b240-43d0-907e-c0beb98f5ba9"
      },
      "outputs": [
        {
          "data": {
            "text/plain": [
              "0.9052545350840538"
            ]
          },
          "execution_count": 111,
          "metadata": {},
          "output_type": "execute_result"
        }
      ],
      "source": [
        "lr.score(xtest,ytest)"
      ]
    },
    {
      "cell_type": "code",
      "execution_count": 112,
      "metadata": {
        "colab": {
          "base_uri": "https://localhost:8080/"
        },
        "id": "iu-8K08p3imS",
        "outputId": "67ed4db1-0723-405f-9709-4dd5e6f798bf"
      },
      "outputs": [
        {
          "data": {
            "text/plain": [
              "array([0.78235958, 0.84957157, 0.83058247, 0.86589344, 0.83894461])"
            ]
          },
          "execution_count": 112,
          "metadata": {},
          "output_type": "execute_result"
        }
      ],
      "source": [
        "from sklearn.model_selection import ShuffleSplit\n",
        "from sklearn.model_selection import cross_val_score\n",
        "\n",
        "cv = ShuffleSplit(n_splits=5, test_size=0.2, random_state=0)\n",
        "\n",
        "cross_val_score(LinearRegression(), x, y, cv=cv)     # using shuffle split is essential here"
      ]
    },
    {
      "cell_type": "code",
      "execution_count": 113,
      "metadata": {
        "colab": {
          "base_uri": "https://localhost:8080/",
          "height": 143
        },
        "id": "OfxITQp55gab",
        "outputId": "57628ae1-c620-44cd-87cf-80641c9d3326"
      },
      "outputs": [
        {
          "data": {
            "text/html": [
              "<div>\n",
              "<style scoped>\n",
              "    .dataframe tbody tr th:only-of-type {\n",
              "        vertical-align: middle;\n",
              "    }\n",
              "\n",
              "    .dataframe tbody tr th {\n",
              "        vertical-align: top;\n",
              "    }\n",
              "\n",
              "    .dataframe thead th {\n",
              "        text-align: right;\n",
              "    }\n",
              "</style>\n",
              "<table border=\"1\" class=\"dataframe\">\n",
              "  <thead>\n",
              "    <tr style=\"text-align: right;\">\n",
              "      <th></th>\n",
              "      <th>model</th>\n",
              "      <th>best_score</th>\n",
              "      <th>best_params</th>\n",
              "    </tr>\n",
              "  </thead>\n",
              "  <tbody>\n",
              "    <tr>\n",
              "      <th>0</th>\n",
              "      <td>linear_regression</td>\n",
              "      <td>0.833470</td>\n",
              "      <td>{}</td>\n",
              "    </tr>\n",
              "    <tr>\n",
              "      <th>1</th>\n",
              "      <td>lasso</td>\n",
              "      <td>0.682504</td>\n",
              "      <td>{'alpha': 1, 'selection': 'cyclic'}</td>\n",
              "    </tr>\n",
              "    <tr>\n",
              "      <th>2</th>\n",
              "      <td>decision_tree</td>\n",
              "      <td>0.747968</td>\n",
              "      <td>{'criterion': 'squared_error', 'splitter': 'be...</td>\n",
              "    </tr>\n",
              "  </tbody>\n",
              "</table>\n",
              "</div>"
            ],
            "text/plain": [
              "               model  best_score  \\\n",
              "0  linear_regression    0.833470   \n",
              "1              lasso    0.682504   \n",
              "2      decision_tree    0.747968   \n",
              "\n",
              "                                         best_params  \n",
              "0                                                 {}  \n",
              "1                {'alpha': 1, 'selection': 'cyclic'}  \n",
              "2  {'criterion': 'squared_error', 'splitter': 'be...  "
            ]
          },
          "execution_count": 113,
          "metadata": {},
          "output_type": "execute_result"
        }
      ],
      "source": [
        "from sklearn.model_selection import GridSearchCV\n",
        "from sklearn.linear_model import Lasso\n",
        "from sklearn.tree import DecisionTreeRegressor\n",
        "def find_best_model_using_gridsearchcv(X,y):\n",
        "    algos = {\n",
        "        'linear_regression' : {\n",
        "            'model': LinearRegression(),\n",
        "            'params': {\n",
        "\n",
        "            }\n",
        "        },\n",
        "        'lasso': {\n",
        "            'model': Lasso(),\n",
        "            'params': {\n",
        "                'alpha': [1,2],\n",
        "                'selection': ['random', 'cyclic']\n",
        "            }\n",
        "        },\n",
        "        'decision_tree': {\n",
        "            'model': DecisionTreeRegressor(),\n",
        "            'params': {\n",
        "                'criterion' : ['squared_error','friedman_mse'],\n",
        "                'splitter': ['best','random']\n",
        "            }\n",
        "        }\n",
        "    }\n",
        "    scores = []\n",
        "    cv = ShuffleSplit(n_splits=5, test_size=0.2, random_state=0) # COULD HAVE AVOIDED USING THIS IF HAD SHUFFLED DF\n",
        "    for algo_name, config in algos.items():\n",
        "        gs =  GridSearchCV(config['model'], config['params'], cv=cv, n_jobs=9, return_train_score=False)\n",
        "        gs.fit(x,y)\n",
        "        scores.append({\n",
        "            'model': algo_name,\n",
        "            'best_score': gs.best_score_,\n",
        "            'best_params': gs.best_params_\n",
        "        })\n",
        "\n",
        "    return pd.DataFrame(scores,columns=['model','best_score','best_params'])\n",
        "\n",
        "find_best_model_using_gridsearchcv(x,y)"
      ]
    },
    {
      "cell_type": "code",
      "execution_count": 115,
      "metadata": {
        "id": "0RLPmeL1_-2v"
      },
      "outputs": [],
      "source": [
        "import pickle\n",
        "with open(\"bengaluru_House_Data.pkl\",'wb') as f:\n",
        "  pickle.dump(lr,f)"
      ]
    },
    {
      "cell_type": "code",
      "execution_count": 116,
      "metadata": {
        "id": "9oD2_Y7-AOys"
      },
      "outputs": [],
      "source": [
        "import json # need columns list for application\n",
        "columns = {\n",
        "    'data_columns' : [col.lower() for col in x.columns]\n",
        "}\n",
        "with open(\"columns.json\",\"w\") as f:\n",
        "    f.write(json.dumps(columns))"
      ]
    },
    {
      "cell_type": "code",
      "execution_count": 145,
      "metadata": {
        "colab": {
          "base_uri": "https://localhost:8080/"
        },
        "id": "T85DEWxAbKcD",
        "outputId": "65b975bc-4444-4ac1-d0f1-ccdd98d3b390"
      },
      "outputs": [
        {
          "data": {
            "text/plain": [
              "3"
            ]
          },
          "execution_count": 145,
          "metadata": {},
          "output_type": "execute_result"
        }
      ],
      "source": [
        "np.where(x.columns=='Devarachikkanahalli')[0][0]"
      ]
    },
    {
      "cell_type": "code",
      "execution_count": 157,
      "metadata": {},
      "outputs": [
        {
          "data": {
            "text/plain": [
              "['total_sqft',\n",
              " 'bath',\n",
              " 'bhk',\n",
              " 'devarachikkanahalli',\n",
              " '1st block jayanagar',\n",
              " '1st phase jp nagar',\n",
              " '2nd phase judicial layout',\n",
              " '2nd stage nagarbhavi',\n",
              " '5th block hbr layout',\n",
              " '5th phase jp nagar',\n",
              " '6th phase jp nagar',\n",
              " '7th phase jp nagar',\n",
              " '8th phase jp nagar',\n",
              " '9th phase jp nagar',\n",
              " 'aecs layout',\n",
              " 'abbigere',\n",
              " 'akshaya nagar',\n",
              " 'ambalipura',\n",
              " 'ambedkar nagar',\n",
              " 'amruthahalli',\n",
              " 'anandapura',\n",
              " 'ananth nagar',\n",
              " 'anekal',\n",
              " 'anjanapura',\n",
              " 'ardendale',\n",
              " 'arekere',\n",
              " 'attibele',\n",
              " 'beml layout',\n",
              " 'btm 2nd stage',\n",
              " 'btm layout',\n",
              " 'babusapalaya',\n",
              " 'badavala nagar',\n",
              " 'balagere',\n",
              " 'banashankari',\n",
              " 'banashankari stage ii',\n",
              " 'banashankari stage iii',\n",
              " 'banashankari stage v',\n",
              " 'banashankari stage vi',\n",
              " 'banaswadi',\n",
              " 'banjara layout',\n",
              " 'bannerghatta',\n",
              " 'bannerghatta road',\n",
              " 'basavangudi',\n",
              " 'basaveshwara nagar',\n",
              " 'battarahalli',\n",
              " 'begur',\n",
              " 'begur road',\n",
              " 'bellandur',\n",
              " 'benson town',\n",
              " 'bharathi nagar',\n",
              " 'bhoganhalli',\n",
              " 'billekahalli',\n",
              " 'binny pete',\n",
              " 'bisuvanahalli',\n",
              " 'bommanahalli',\n",
              " 'bommasandra',\n",
              " 'bommasandra industrial area',\n",
              " 'bommenahalli',\n",
              " 'brookefield',\n",
              " 'budigere',\n",
              " 'cv raman nagar',\n",
              " 'chamrajpet',\n",
              " 'chandapura',\n",
              " 'channasandra',\n",
              " 'chikka tirupathi',\n",
              " 'chikkabanavar',\n",
              " 'chikkalasandra',\n",
              " 'choodasandra',\n",
              " 'cooke town',\n",
              " 'cox town',\n",
              " 'cunningham road',\n",
              " 'dasanapura',\n",
              " 'dasarahalli',\n",
              " 'devanahalli',\n",
              " 'dodda nekkundi',\n",
              " 'doddaballapur',\n",
              " 'doddakallasandra',\n",
              " 'doddathoguru',\n",
              " 'domlur',\n",
              " 'dommasandra',\n",
              " 'epip zone',\n",
              " 'electronic city',\n",
              " 'electronic city phase ii',\n",
              " 'electronics city phase 1',\n",
              " 'frazer town',\n",
              " 'gm palaya',\n",
              " 'garudachar palya',\n",
              " 'giri nagar',\n",
              " 'gollarapalya hosahalli',\n",
              " 'gottigere',\n",
              " 'green glen layout',\n",
              " 'gubbalala',\n",
              " 'gunjur',\n",
              " 'hal 2nd stage',\n",
              " 'hbr layout',\n",
              " 'hrbr layout',\n",
              " 'hsr layout',\n",
              " 'haralur road',\n",
              " 'harlur',\n",
              " 'hebbal',\n",
              " 'hebbal kempapura',\n",
              " 'hegde nagar',\n",
              " 'hennur',\n",
              " 'hennur road',\n",
              " 'hoodi',\n",
              " 'horamavu agara',\n",
              " 'horamavu banaswadi',\n",
              " 'hormavu',\n",
              " 'hosa road',\n",
              " 'hosakerehalli',\n",
              " 'hoskote',\n",
              " 'hosur road',\n",
              " 'hulimavu',\n",
              " 'isro layout',\n",
              " 'itpl',\n",
              " 'iblur village',\n",
              " 'indira nagar',\n",
              " 'jp nagar',\n",
              " 'jakkur',\n",
              " 'jalahalli',\n",
              " 'jalahalli east',\n",
              " 'jigani',\n",
              " 'judicial layout',\n",
              " 'kr puram',\n",
              " 'kadubeesanahalli',\n",
              " 'kadugodi',\n",
              " 'kaggadasapura',\n",
              " 'kaggalipura',\n",
              " 'kaikondrahalli',\n",
              " 'kalena agrahara',\n",
              " 'kalyan nagar',\n",
              " 'kambipura',\n",
              " 'kammanahalli',\n",
              " 'kammasandra',\n",
              " 'kanakapura',\n",
              " 'kanakpura road',\n",
              " 'kannamangala',\n",
              " 'karuna nagar',\n",
              " 'kasavanhalli',\n",
              " 'kasturi nagar',\n",
              " 'kathriguppe',\n",
              " 'kaval byrasandra',\n",
              " 'kenchenahalli',\n",
              " 'kengeri',\n",
              " 'kengeri satellite town',\n",
              " 'kereguddadahalli',\n",
              " 'kodichikkanahalli',\n",
              " 'kodigehaali',\n",
              " 'kodigehalli',\n",
              " 'kodihalli',\n",
              " 'kogilu',\n",
              " 'konanakunte',\n",
              " 'koramangala',\n",
              " 'kothannur',\n",
              " 'kothanur',\n",
              " 'kudlu',\n",
              " 'kudlu gate',\n",
              " 'kumaraswami layout',\n",
              " 'kundalahalli',\n",
              " 'lb shastri nagar',\n",
              " 'laggere',\n",
              " 'lakshminarayana pura',\n",
              " 'lingadheeranahalli',\n",
              " 'magadi road',\n",
              " 'mahadevpura',\n",
              " 'mahalakshmi layout',\n",
              " 'mallasandra',\n",
              " 'malleshpalya',\n",
              " 'malleshwaram',\n",
              " 'marathahalli',\n",
              " 'margondanahalli',\n",
              " 'marsur',\n",
              " 'mico layout',\n",
              " 'munnekollal',\n",
              " 'murugeshpalya',\n",
              " 'mysore road',\n",
              " 'ngr layout',\n",
              " 'nri layout',\n",
              " 'nagarbhavi',\n",
              " 'nagasandra',\n",
              " 'nagavara',\n",
              " 'nagavarapalya',\n",
              " 'narayanapura',\n",
              " 'neeladri nagar',\n",
              " 'nehru nagar',\n",
              " 'ombr layout',\n",
              " 'old airport road',\n",
              " 'old madras road',\n",
              " 'padmanabhanagar',\n",
              " 'pai layout',\n",
              " 'panathur',\n",
              " 'parappana agrahara',\n",
              " 'pattandur agrahara',\n",
              " 'poorna pragna layout',\n",
              " 'prithvi layout',\n",
              " 'r.t. nagar',\n",
              " 'rachenahalli',\n",
              " 'raja rajeshwari nagar',\n",
              " 'rajaji nagar',\n",
              " 'rajiv nagar',\n",
              " 'ramagondanahalli',\n",
              " 'ramamurthy nagar',\n",
              " 'rayasandra',\n",
              " 'sahakara nagar',\n",
              " 'sanjay nagar',\n",
              " 'sarakki nagar',\n",
              " 'sarjapur',\n",
              " 'sarjapur  road',\n",
              " 'sarjapura - attibele road',\n",
              " 'sector 2 hsr layout',\n",
              " 'sector 7 hsr layout',\n",
              " 'seegehalli',\n",
              " 'shampura',\n",
              " 'shivaji nagar',\n",
              " 'singasandra',\n",
              " 'somasundara palya',\n",
              " 'sompura',\n",
              " 'sonnenahalli',\n",
              " 'subramanyapura',\n",
              " 'sultan palaya',\n",
              " 'tc palaya',\n",
              " 'talaghattapura',\n",
              " 'thanisandra',\n",
              " 'thigalarapalya',\n",
              " 'thubarahalli',\n",
              " 'tindlu',\n",
              " 'tumkur road',\n",
              " 'ulsoor',\n",
              " 'uttarahalli',\n",
              " 'varthur',\n",
              " 'varthur road',\n",
              " 'vasanthapura',\n",
              " 'vidyaranyapura',\n",
              " 'vijayanagar',\n",
              " 'vishveshwarya layout',\n",
              " 'vishwapriya layout',\n",
              " 'vittasandra',\n",
              " 'whitefield',\n",
              " 'yelachenahalli',\n",
              " 'yelahanka',\n",
              " 'yelahanka new town',\n",
              " 'yelenahalli',\n",
              " 'yeshwanthpur']"
            ]
          },
          "execution_count": 157,
          "metadata": {},
          "output_type": "execute_result"
        }
      ],
      "source": [
        "columns['data_columns']"
      ]
    },
    {
      "cell_type": "code",
      "execution_count": 188,
      "metadata": {
        "id": "XOsP56tzcEjz"
      },
      "outputs": [],
      "source": [
        "def predict_price(location,total_sqft,bath,bhk):\n",
        "  location = location.strip().lower()\n",
        "  \n",
        "  data_columns_lower = [col.lower() for col in columns['data_columns']]\n",
        "  if location not in data_columns_lower:\n",
        "    print(f\"Location '{location}' not found.\")\n",
        "    return None\n",
        "  loc_index=data_columns_lower.index(location)\n",
        "  a=np.zeros(len(columns[\"data_columns\"]))\n",
        "  a[0]=total_sqft\n",
        "  a[1]=bath\n",
        "  a[2]=bhk\n",
        "  if loc_index>=0:\n",
        "    a[loc_index]=1\n",
        "  return lr.predict([a])[0]"
      ]
    },
    {
      "cell_type": "code",
      "execution_count": 189,
      "metadata": {
        "colab": {
          "base_uri": "https://localhost:8080/"
        },
        "id": "KT3CHkAxev6L",
        "outputId": "7c831abc-b6b5-4b7a-93bd-e871323cc1d1"
      },
      "outputs": [
        {
          "name": "stderr",
          "output_type": "stream",
          "text": [
            "C:\\Users\\SV\\AppData\\Local\\Packages\\PythonSoftwareFoundation.Python.3.12_qbz5n2kfra8p0\\LocalCache\\local-packages\\Python312\\site-packages\\sklearn\\base.py:493: UserWarning: X does not have valid feature names, but LinearRegression was fitted with feature names\n",
            "  warnings.warn(\n"
          ]
        },
        {
          "data": {
            "text/plain": [
              "86.90502064984467"
            ]
          },
          "execution_count": 189,
          "metadata": {},
          "output_type": "execute_result"
        }
      ],
      "source": [
        "predict_price('1st Phase JP Nagar',1000,2,2)"
      ]
    },
    {
      "cell_type": "code",
      "execution_count": 190,
      "metadata": {
        "colab": {
          "base_uri": "https://localhost:8080/"
        },
        "id": "JXfhpzulfCvM",
        "outputId": "946ea301-2ea5-4a7b-c512-70ef55c74b3b"
      },
      "outputs": [
        {
          "data": {
            "text/plain": [
              "set()"
            ]
          },
          "execution_count": 190,
          "metadata": {},
          "output_type": "execute_result"
        }
      ],
      "source": [
        "set(x.columns)-set(xtrain.columns)"
      ]
    },
    {
      "cell_type": "code",
      "execution_count": 191,
      "metadata": {
        "colab": {
          "base_uri": "https://localhost:8080/"
        },
        "id": "S9eDJMIhqFlM",
        "outputId": "6ea0d36f-88c1-40a8-c34e-4ee1c9cefb8d"
      },
      "outputs": [
        {
          "name": "stderr",
          "output_type": "stream",
          "text": [
            "C:\\Users\\SV\\AppData\\Local\\Packages\\PythonSoftwareFoundation.Python.3.12_qbz5n2kfra8p0\\LocalCache\\local-packages\\Python312\\site-packages\\sklearn\\base.py:493: UserWarning: X does not have valid feature names, but LinearRegression was fitted with feature names\n",
            "  warnings.warn(\n"
          ]
        },
        {
          "data": {
            "text/plain": [
              "179.90960994365096"
            ]
          },
          "execution_count": 191,
          "metadata": {},
          "output_type": "execute_result"
        }
      ],
      "source": [
        "predict_price('Indira Nagar',1000,3,3)"
      ]
    },
    {
      "cell_type": "code",
      "execution_count": 193,
      "metadata": {
        "id": "uRRGGqKGr4sS"
      },
      "outputs": [
        {
          "name": "stderr",
          "output_type": "stream",
          "text": [
            "C:\\Users\\SV\\AppData\\Local\\Packages\\PythonSoftwareFoundation.Python.3.12_qbz5n2kfra8p0\\LocalCache\\local-packages\\Python312\\site-packages\\sklearn\\base.py:493: UserWarning: X does not have valid feature names, but LinearRegression was fitted with feature names\n",
            "  warnings.warn(\n"
          ]
        },
        {
          "data": {
            "text/plain": [
              "37.41138408790596"
            ]
          },
          "execution_count": 193,
          "metadata": {},
          "output_type": "execute_result"
        }
      ],
      "source": [
        "predict_price('akshaya nagar',1000,3,3)  # 2,2 more costy than 3,3 cause sqft same so congested"
      ]
    },
    {
      "cell_type": "code",
      "execution_count": null,
      "metadata": {},
      "outputs": [],
      "source": []
    },
    {
      "cell_type": "code",
      "execution_count": null,
      "metadata": {},
      "outputs": [],
      "source": []
    }
  ],
  "metadata": {
    "colab": {
      "provenance": []
    },
    "kernelspec": {
      "display_name": "Python 3",
      "name": "python3"
    },
    "language_info": {
      "codemirror_mode": {
        "name": "ipython",
        "version": 3
      },
      "file_extension": ".py",
      "mimetype": "text/x-python",
      "name": "python",
      "nbconvert_exporter": "python",
      "pygments_lexer": "ipython3",
      "version": "3.12.5"
    }
  },
  "nbformat": 4,
  "nbformat_minor": 0
}
